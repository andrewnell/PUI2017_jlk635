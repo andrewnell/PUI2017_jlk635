{
 "cells": [
  {
   "cell_type": "code",
   "execution_count": 47,
   "metadata": {
    "collapsed": false
   },
   "outputs": [
    {
     "name": "stdout",
     "output_type": "stream",
     "text": [
      "Bus Line : B52\n",
      "Number of Active Buses : 12\n",
      "Bus 0 is at latitude -73.977045 and longitude 40.687359\n",
      "Bus 1 is at latitude -73.95932 and longitude 40.687459\n",
      "Bus 2 is at latitude -73.987542 and longitude 40.691534\n",
      "Bus 3 is at latitude -73.990633 and longitude 40.692492\n",
      "Bus 4 is at latitude -73.950991 and longitude 40.686169\n",
      "Bus 5 is at latitude -73.976838 and longitude 40.687279\n",
      "Bus 6 is at latitude -73.919762 and longitude 40.69184\n",
      "Bus 7 is at latitude -73.915156 and longitude 40.69653\n",
      "Bus 8 is at latitude -73.929659 and longitude 40.688624\n",
      "Bus 9 is at latitude -73.921537 and longitude 40.690029\n",
      "Bus 10 is at latitude -73.990996 and longitude 40.696187\n",
      "Bus 11 is at latitude -73.925454 and longitude 40.689106\n"
     ]
    }
   ],
   "source": [
    "from __future__ import print_function\n",
    "import sys\n",
    "import pylab as pl\n",
    "import os\n",
    "import json\n",
    "try:\n",
    "    import urllib2 as urllib\n",
    "except ImportError:\n",
    "    import urllib.request as urllib\n",
    "\n",
    "# this line checks how many arguments are passed to python\n",
    "# the arguments are stored in sys.argv which is a list\n",
    "# the first argument is the name of the code\n",
    "# so sys.argv is a list with at least one element\n",
    "# with your name in input it will be a list of 2\n",
    "# if you add more than one word as argument it will give you an error as well\n",
    "if not len(sys.argv) == 3:\n",
    "    print (\"Invalid number of arguments. Run as: python  show_bus_locations_jlk635.py <MTA_KEY> <BUS_LINE>\")\n",
    "    sys.exit()\n",
    "\n",
    "\n",
    "MTAKEY =  str(sys.argv[1])\n",
    "BusRef =  str(sys.argv[2])\n",
    "    \n",
    "\n",
    "url= \"http://bustime.mta.info/api/siri/vehicle-monitoring.json?key=\" + MTAKEY + \"&VehicleMonitoringDetailLevel=calls&LineRef=\" + BusRef\n",
    "    \n",
    "    \n",
    "response = urllib.urlopen(url)\n",
    "data = response.read()\n",
    "data = json.loads(data)\n",
    "\n",
    "\n",
    "AllBuses = data['Siri']['ServiceDelivery']['VehicleMonitoringDelivery'][0]['VehicleActivity'] #this is vehicle activity for the buses on the given route\n",
    "\n",
    "\n",
    "Buses = len(AllBuses)\n",
    "type(BusRef)\n",
    "print ('Bus Line : {}'.format(BusRef)) \n",
    "print ('Number of Active Buses : {}'.format(Buses)) \n",
    "BusCounter = 0\n",
    "for it in AllBuses:\n",
    "    Lat = str(it['MonitoredVehicleJourney']['VehicleLocation']['Longitude'])\n",
    "    Lon = str(it['MonitoredVehicleJourney']['VehicleLocation']['Latitude'])\n",
    "    print ('Bus {} is at latitude {} and longitude {}'.format(BusCounter,Lat, Lon))\n",
    "    BusCounter += 1\n",
    "\n",
    "\n",
    "\n",
    "\n"
   ]
  },
  {
   "cell_type": "code",
   "execution_count": null,
   "metadata": {
    "collapsed": false
   },
   "outputs": [],
   "source": []
  },
  {
   "cell_type": "code",
   "execution_count": 2,
   "metadata": {
    "collapsed": false
   },
   "outputs": [
    {
     "name": "stdout",
     "output_type": "stream",
     "text": [
      "Invalid number of arguments. Run as: python  aSimplePythonScript.py YourNameHere\n"
     ]
    },
    {
     "ename": "SystemExit",
     "evalue": "",
     "output_type": "error",
     "traceback": [
      "An exception has occurred, use %tb to see the full traceback.\n",
      "\u001b[0;31mSystemExit\u001b[0m\n"
     ]
    }
   ],
   "source": [
    "# Author: federica bianco, NYU, September 2016\n",
    "##############################\n",
    "# Code written to demonstrate ho to pass arguments to a python script\n",
    "# for HW2 of PUI2016\n",
    "# http://cosmo.nyu.edu/~fb55/PUI2016\n",
    "##############################\n",
    "# put your name as input argument:\n",
    "# i.e. run the code as\n",
    "#      python aSimplePythonScript.py Dr.Bianco\n",
    "# notice that your name should be a single word (only the first line argument is read)\n",
    "\n",
    "# the next line import packages that change the python 2 print function\n",
    "# so that it require the same syntax as python 3\n",
    "# thus the code will work both in python 2 and python 3\n",
    "from __future__ import print_function\n",
    "# the next import allows me to read line input arguments\n",
    "import sys\n",
    "\n",
    "\n",
    "# this line checks how many arguments are passed to python\n",
    "# the arguments are stored in sys.argv which is a list\n",
    "# the first argument is the name of the code\n",
    "# so sys.argv is a list with at least one element\n",
    "# with your name in input it will be a list of 2\n",
    "# if you add more than one word as argument it will give you an error as well\n",
    "if not len(sys.argv) == 2:\n",
    "    print (\"Invalid number of arguments. Run as: python  aSimplePythonScript.py YourNameHere\")\n",
    "    sys.exit()\n",
    "\n",
    "# this line prints Hallo and then your name\n",
    "# which you provide as argument\n",
    "print (\"Hello \" + sys.argv[1] + \"!\")"
   ]
  },
  {
   "cell_type": "code",
   "execution_count": null,
   "metadata": {
    "collapsed": true
   },
   "outputs": [],
   "source": []
  }
 ],
 "metadata": {
  "kernelspec": {
   "display_name": "PUI2016_Python2",
   "language": "python",
   "name": "pui2016_python2"
  },
  "language_info": {
   "codemirror_mode": {
    "name": "ipython",
    "version": 2
   },
   "file_extension": ".py",
   "mimetype": "text/x-python",
   "name": "python",
   "nbconvert_exporter": "python",
   "pygments_lexer": "ipython2",
   "version": "2.7.12"
  }
 },
 "nbformat": 4,
 "nbformat_minor": 0
}
