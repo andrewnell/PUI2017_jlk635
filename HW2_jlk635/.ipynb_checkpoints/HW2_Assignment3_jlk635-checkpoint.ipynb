{
 "cells": [
  {
   "cell_type": "code",
   "execution_count": 1,
   "metadata": {
    "collapsed": false
   },
   "outputs": [],
   "source": [
    "from __future__ import division, print_function\n",
    "__author__ = 'fbb CUSP 2016'\n",
    "import os\n",
    "import numpy as np\n",
    "from numpy.random import randn\n",
    "import pylab as pl\n",
    "\n",
    "from pandas import Series, DataFrame\n",
    "import pandas\n",
    "import pandas as pd\n",
    "\n",
    "PUIdata = os.getenv(\"PUIDATA\")\n"
   ]
  },
  {
   "cell_type": "code",
   "execution_count": 2,
   "metadata": {
    "collapsed": false
   },
   "outputs": [
    {
     "name": "stdout",
     "output_type": "stream",
     "text": [
      "/home/cusp/jlk635/PUIdata\n"
     ]
    }
   ],
   "source": [
    "# use the environmental variable PUIDATA to access data \n",
    "# stored in your own PUIDATA directory\n",
    "PUIdata = os.getenv('PUIDATA')\n",
    "\n",
    "print(PUIdata)"
   ]
  },
  {
   "cell_type": "code",
   "execution_count": 3,
   "metadata": {
    "collapsed": false
   },
   "outputs": [],
   "source": [
    "NYCWaterConsumption = pd.read_csv(os.getenv('DFDATA') + \"/ia2d-e54m/1409875200/ia2d-e54m.csv\")"
   ]
  },
  {
   "cell_type": "code",
   "execution_count": 4,
   "metadata": {
    "collapsed": false
   },
   "outputs": [
    {
     "data": {
      "text/html": [
       "<div>\n",
       "<table border=\"1\" class=\"dataframe\">\n",
       "  <thead>\n",
       "    <tr style=\"text-align: right;\">\n",
       "      <th></th>\n",
       "      <th>Year</th>\n",
       "      <th>NYC Consumption(Million gallons per day)</th>\n",
       "      <th>Per Capita(Gallons per person per day)</th>\n",
       "    </tr>\n",
       "  </thead>\n",
       "  <tbody>\n",
       "    <tr>\n",
       "      <th>0</th>\n",
       "      <td>2009</td>\n",
       "      <td>1007.2</td>\n",
       "      <td>125.8</td>\n",
       "    </tr>\n",
       "    <tr>\n",
       "      <th>1</th>\n",
       "      <td>2008</td>\n",
       "      <td>1082.9</td>\n",
       "      <td>135.2</td>\n",
       "    </tr>\n",
       "    <tr>\n",
       "      <th>2</th>\n",
       "      <td>2007</td>\n",
       "      <td>1113.9</td>\n",
       "      <td>139.1</td>\n",
       "    </tr>\n",
       "    <tr>\n",
       "      <th>3</th>\n",
       "      <td>2006</td>\n",
       "      <td>1068.7</td>\n",
       "      <td>133.5</td>\n",
       "    </tr>\n",
       "    <tr>\n",
       "      <th>4</th>\n",
       "      <td>2005</td>\n",
       "      <td>1107.4</td>\n",
       "      <td>138.3</td>\n",
       "    </tr>\n",
       "  </tbody>\n",
       "</table>\n",
       "</div>"
      ],
      "text/plain": [
       "   Year  NYC Consumption(Million gallons per day)  \\\n",
       "0  2009                                    1007.2   \n",
       "1  2008                                    1082.9   \n",
       "2  2007                                    1113.9   \n",
       "3  2006                                    1068.7   \n",
       "4  2005                                    1107.4   \n",
       "\n",
       "   Per Capita(Gallons per person per day)  \n",
       "0                                   125.8  \n",
       "1                                   135.2  \n",
       "2                                   139.1  \n",
       "3                                   133.5  \n",
       "4                                   138.3  "
      ]
     },
     "execution_count": 4,
     "metadata": {},
     "output_type": "execute_result"
    }
   ],
   "source": [
    "NYCWaterConsumption[:5]"
   ]
  },
  {
   "cell_type": "code",
   "execution_count": 5,
   "metadata": {
    "collapsed": false
   },
   "outputs": [],
   "source": [
    "#drop variables you do not need\n",
    "NYCWaterConsumptionTrim = NYCWaterConsumption[['NYC Consumption(Million gallons per day)','Per Capita(Gallons per person per day)']]"
   ]
  },
  {
   "cell_type": "code",
   "execution_count": 6,
   "metadata": {
    "collapsed": false
   },
   "outputs": [
    {
     "data": {
      "text/html": [
       "<div>\n",
       "<table border=\"1\" class=\"dataframe\">\n",
       "  <thead>\n",
       "    <tr style=\"text-align: right;\">\n",
       "      <th></th>\n",
       "      <th>NYC Consumption(Million gallons per day)</th>\n",
       "      <th>Per Capita(Gallons per person per day)</th>\n",
       "    </tr>\n",
       "  </thead>\n",
       "  <tbody>\n",
       "    <tr>\n",
       "      <th>0</th>\n",
       "      <td>1007.2</td>\n",
       "      <td>125.8</td>\n",
       "    </tr>\n",
       "    <tr>\n",
       "      <th>1</th>\n",
       "      <td>1082.9</td>\n",
       "      <td>135.2</td>\n",
       "    </tr>\n",
       "    <tr>\n",
       "      <th>2</th>\n",
       "      <td>1113.9</td>\n",
       "      <td>139.1</td>\n",
       "    </tr>\n",
       "    <tr>\n",
       "      <th>3</th>\n",
       "      <td>1068.7</td>\n",
       "      <td>133.5</td>\n",
       "    </tr>\n",
       "    <tr>\n",
       "      <th>4</th>\n",
       "      <td>1107.4</td>\n",
       "      <td>138.3</td>\n",
       "    </tr>\n",
       "    <tr>\n",
       "      <th>5</th>\n",
       "      <td>1099.5</td>\n",
       "      <td>137.3</td>\n",
       "    </tr>\n",
       "    <tr>\n",
       "      <th>6</th>\n",
       "      <td>1093.7</td>\n",
       "      <td>136.6</td>\n",
       "    </tr>\n",
       "    <tr>\n",
       "      <th>7</th>\n",
       "      <td>1135.6</td>\n",
       "      <td>141.8</td>\n",
       "    </tr>\n",
       "    <tr>\n",
       "      <th>8</th>\n",
       "      <td>1184.0</td>\n",
       "      <td>154.6</td>\n",
       "    </tr>\n",
       "    <tr>\n",
       "      <th>9</th>\n",
       "      <td>1240.4</td>\n",
       "      <td>169.4</td>\n",
       "    </tr>\n",
       "    <tr>\n",
       "      <th>10</th>\n",
       "      <td>1237.2</td>\n",
       "      <td>168.9</td>\n",
       "    </tr>\n",
       "    <tr>\n",
       "      <th>11</th>\n",
       "      <td>1219.5</td>\n",
       "      <td>166.5</td>\n",
       "    </tr>\n",
       "    <tr>\n",
       "      <th>12</th>\n",
       "      <td>1205.5</td>\n",
       "      <td>164.6</td>\n",
       "    </tr>\n",
       "    <tr>\n",
       "      <th>13</th>\n",
       "      <td>1297.9</td>\n",
       "      <td>177.2</td>\n",
       "    </tr>\n",
       "    <tr>\n",
       "      <th>14</th>\n",
       "      <td>1325.7</td>\n",
       "      <td>181.0</td>\n",
       "    </tr>\n",
       "    <tr>\n",
       "      <th>15</th>\n",
       "      <td>1357.7</td>\n",
       "      <td>185.4</td>\n",
       "    </tr>\n",
       "    <tr>\n",
       "      <th>16</th>\n",
       "      <td>1368.5</td>\n",
       "      <td>186.9</td>\n",
       "    </tr>\n",
       "    <tr>\n",
       "      <th>17</th>\n",
       "      <td>1368.6</td>\n",
       "      <td>186.9</td>\n",
       "    </tr>\n",
       "    <tr>\n",
       "      <th>18</th>\n",
       "      <td>1496.3</td>\n",
       "      <td>204.1</td>\n",
       "    </tr>\n",
       "    <tr>\n",
       "      <th>19</th>\n",
       "      <td>1423.8</td>\n",
       "      <td>201.3</td>\n",
       "    </tr>\n",
       "    <tr>\n",
       "      <th>20</th>\n",
       "      <td>1401.7</td>\n",
       "      <td>198.2</td>\n",
       "    </tr>\n",
       "    <tr>\n",
       "      <th>21</th>\n",
       "      <td>1483.9</td>\n",
       "      <td>208.3</td>\n",
       "    </tr>\n",
       "    <tr>\n",
       "      <th>22</th>\n",
       "      <td>1446.5</td>\n",
       "      <td>201.9</td>\n",
       "    </tr>\n",
       "    <tr>\n",
       "      <th>23</th>\n",
       "      <td>1350.7</td>\n",
       "      <td>190.4</td>\n",
       "    </tr>\n",
       "    <tr>\n",
       "      <th>24</th>\n",
       "      <td>1325.8</td>\n",
       "      <td>187.5</td>\n",
       "    </tr>\n",
       "    <tr>\n",
       "      <th>25</th>\n",
       "      <td>1465.0</td>\n",
       "      <td>207.2</td>\n",
       "    </tr>\n",
       "    <tr>\n",
       "      <th>26</th>\n",
       "      <td>1423.8</td>\n",
       "      <td>201.4</td>\n",
       "    </tr>\n",
       "    <tr>\n",
       "      <th>27</th>\n",
       "      <td>1382.4</td>\n",
       "      <td>195.5</td>\n",
       "    </tr>\n",
       "    <tr>\n",
       "      <th>28</th>\n",
       "      <td>1309.3</td>\n",
       "      <td>181.4</td>\n",
       "    </tr>\n",
       "    <tr>\n",
       "      <th>29</th>\n",
       "      <td>1505.9</td>\n",
       "      <td>187.9</td>\n",
       "    </tr>\n",
       "    <tr>\n",
       "      <th>30</th>\n",
       "      <td>1512.4</td>\n",
       "      <td>189.0</td>\n",
       "    </tr>\n",
       "  </tbody>\n",
       "</table>\n",
       "</div>"
      ],
      "text/plain": [
       "    NYC Consumption(Million gallons per day)  \\\n",
       "0                                     1007.2   \n",
       "1                                     1082.9   \n",
       "2                                     1113.9   \n",
       "3                                     1068.7   \n",
       "4                                     1107.4   \n",
       "5                                     1099.5   \n",
       "6                                     1093.7   \n",
       "7                                     1135.6   \n",
       "8                                     1184.0   \n",
       "9                                     1240.4   \n",
       "10                                    1237.2   \n",
       "11                                    1219.5   \n",
       "12                                    1205.5   \n",
       "13                                    1297.9   \n",
       "14                                    1325.7   \n",
       "15                                    1357.7   \n",
       "16                                    1368.5   \n",
       "17                                    1368.6   \n",
       "18                                    1496.3   \n",
       "19                                    1423.8   \n",
       "20                                    1401.7   \n",
       "21                                    1483.9   \n",
       "22                                    1446.5   \n",
       "23                                    1350.7   \n",
       "24                                    1325.8   \n",
       "25                                    1465.0   \n",
       "26                                    1423.8   \n",
       "27                                    1382.4   \n",
       "28                                    1309.3   \n",
       "29                                    1505.9   \n",
       "30                                    1512.4   \n",
       "\n",
       "    Per Capita(Gallons per person per day)  \n",
       "0                                    125.8  \n",
       "1                                    135.2  \n",
       "2                                    139.1  \n",
       "3                                    133.5  \n",
       "4                                    138.3  \n",
       "5                                    137.3  \n",
       "6                                    136.6  \n",
       "7                                    141.8  \n",
       "8                                    154.6  \n",
       "9                                    169.4  \n",
       "10                                   168.9  \n",
       "11                                   166.5  \n",
       "12                                   164.6  \n",
       "13                                   177.2  \n",
       "14                                   181.0  \n",
       "15                                   185.4  \n",
       "16                                   186.9  \n",
       "17                                   186.9  \n",
       "18                                   204.1  \n",
       "19                                   201.3  \n",
       "20                                   198.2  \n",
       "21                                   208.3  \n",
       "22                                   201.9  \n",
       "23                                   190.4  \n",
       "24                                   187.5  \n",
       "25                                   207.2  \n",
       "26                                   201.4  \n",
       "27                                   195.5  \n",
       "28                                   181.4  \n",
       "29                                   187.9  \n",
       "30                                   189.0  "
      ]
     },
     "execution_count": 6,
     "metadata": {},
     "output_type": "execute_result"
    }
   ],
   "source": [
    "NYCWaterConsumptionTrim"
   ]
  },
  {
   "cell_type": "code",
   "execution_count": 7,
   "metadata": {
    "collapsed": false
   },
   "outputs": [
    {
     "name": "stdout",
     "output_type": "stream",
     "text": [
      "Populating the interactive namespace from numpy and matplotlib\n"
     ]
    },
    {
     "data": {
      "text/plain": [
       "<matplotlib.text.Text at 0x7f8fc4f017d0>"
      ]
     },
     "execution_count": 7,
     "metadata": {},
     "output_type": "execute_result"
    },
    {
     "data": {
      "image/png": "[encoded data removed]",
      "text/plain": [
       "<matplotlib.figure.Figure at 0x7f8fc4f47290>"
      ]
     },
     "metadata": {},
     "output_type": "display_data"
    }
   ],
   "source": [
    "%pylab inline\n",
    "# the last line of code makes the plot show up within the notebook. \n",
    "# Always include it so that your homework notebooks are rendered and we can see\n",
    "# what you wanted your results to be. \n",
    "\n",
    "\n",
    "\n",
    "X = NYCWaterConsumptionTrim['NYC Consumption(Million gallons per day)']\n",
    "Y = NYCWaterConsumptionTrim['Per Capita(Gallons per person per day)']    \n",
    "plt.scatter(X,Y, s=20, c='hotpink', edgecolors='lightgray')\n",
    "    \n",
    "plt.title('Comparing Total Water Consumption with Per Capita Consumption', fontsize=14)\n",
    "plt.xlabel('NYC Consumption (Mil gal per day)', fontsize=12)\n",
    "plt.ylabel('Per Capita (Gal per person per day)', fontsize=12)\n"
   ]
  },
  {
   "cell_type": "markdown",
   "metadata": {
    "collapsed": true
   },
   "source": [
    "## Figure 1: \n",
    "\n",
    "Plot of Total NYC water consumption in millions of gallons per day (x-axis) against Per Capita (Gallons per person per day) (y-axis) for the years 1979 through 2009. There is a positive relationship between the two variables."
   ]
  },
  {
   "cell_type": "code",
   "execution_count": null,
   "metadata": {
    "collapsed": true
   },
   "outputs": [],
   "source": []
  }
 ],
 "metadata": {
  "kernelspec": {
   "display_name": "PUI2016_Python2",
   "language": "python",
   "name": "pui2016_python2"
  },
  "language_info": {
   "codemirror_mode": {
    "name": "ipython",
    "version": 2
   },
   "file_extension": ".py",
   "mimetype": "text/x-python",
   "name": "python",
   "nbconvert_exporter": "python",
   "pygments_lexer": "ipython2",
   "version": "2.7.12"
  }
 },
 "nbformat": 4,
 "nbformat_minor": 0
}
