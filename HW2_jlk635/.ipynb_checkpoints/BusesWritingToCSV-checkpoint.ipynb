{
 "cells": [
  {
   "cell_type": "code",
   "execution_count": null,
   "metadata": {
    "collapsed": true
   },
   "outputs": [],
   "source": [
    "#python get_bus_info.py xxxx-xxxx-xxxx-xxxx-xxxx <BUS_LINE> <BUS_LINE>.csv"
   ]
  },
  {
   "cell_type": "code",
   "execution_count": null,
   "metadata": {
    "collapsed": true
   },
   "outputs": [],
   "source": [
    "#Latitude,Longitude,Stop Name,Stop Status\n",
    "#40.755489,-73.987347,7 AV/W 41 ST,at stop\n",
    "#40.775657,-73.982036,BROADWAY/W 69 ST,approaching\n",
    "#40.808332,-73.944979,MALCOLM X BL/W 127 ST,approaching\n",
    "#40.764998,-73.980416,N/A,N/A\n",
    "#40.804702,-73.947620,MALCOLM X BL/W 122 ST,< 1 stop away\n",
    "#40.776950,-73.981983,AMSTERDAM AV/W 72 ST,< 1 stop away\n",
    "#40.737650,-73.996626,AV OF THE AMERICAS/W 18 ST,< 1 stop away\n"
   ]
  },
  {
   "cell_type": "code",
   "execution_count": 2,
   "metadata": {
    "collapsed": false
   },
   "outputs": [
    {
     "name": "stdout",
     "output_type": "stream",
     "text": [
      "http://bustime.mta.info/api/siri/vehicle-monitoring.json?key=4750827e-e989-4951-972b-31decebf3a39&VehicleMonitoringDetailLevel=calls&LineRef=B52\n"
     ]
    }
   ],
   "source": [
    "from __future__ import print_function\n",
    "import sys\n",
    "import pylab as pl\n",
    "import os\n",
    "import json\n",
    "try:\n",
    "    import urllib2 as urllib\n",
    "except ImportError:\n",
    "    import urllib.request as urllib\n",
    "    \n",
    "url= \"http://bustime.mta.info/api/siri/vehicle-monitoring.json?key=4750827e-e989-4951-972b-31decebf3a39&VehicleMonitoringDetailLevel=calls&LineRef=B52\"\n",
    "print (url)\n",
    "\n",
    "response = urllib.urlopen(url)\n",
    "read_data = response.read()\n",
    "#print(read_data)\n",
    "data = json.loads(read_data)\n",
    "\n",
    "\n",
    "    \n",
    "    \n",
    "    \n",
    "    \n",
    "    \n",
    "    \n",
    "    "
   ]
  },
  {
   "cell_type": "code",
   "execution_count": 35,
   "metadata": {
    "collapsed": false
   },
   "outputs": [
    {
     "data": {
      "text/plain": [
       "13"
      ]
     },
     "execution_count": 35,
     "metadata": {},
     "output_type": "execute_result"
    }
   ],
   "source": [
    "AllBuses = data['Siri']['ServiceDelivery']['VehicleMonitoringDelivery'][0]['VehicleActivity'] #this is vehicle activity for the buses on the given route\n",
    "len(AllBuses)\n",
    "\n"
   ]
  },
  {
   "cell_type": "code",
   "execution_count": 34,
   "metadata": {
    "collapsed": false
   },
   "outputs": [
    {
     "data": {
      "text/plain": [
       "['FULTON ST/LAFAYETTE AV', 'at stop']"
      ]
     },
     "execution_count": 34,
     "metadata": {},
     "output_type": "execute_result"
    }
   ],
   "source": [
    "StopStatus = str(AllBuses[0]['MonitoredVehicleJourney']['OnwardCalls']['OnwardCall'][0]['Extensions']['Distances']['PresentableDistance']) #The next stop for Bus 0 of active buses\n",
    "StopName = str(AllBuses[0]['MonitoredVehicleJourney']['OnwardCalls']['OnwardCall'][0]['StopPointName'])\n",
    "\n",
    "Dets = [StopName, StopStatus]\n",
    "Dets "
   ]
  },
  {
   "cell_type": "code",
   "execution_count": 28,
   "metadata": {
    "collapsed": false
   },
   "outputs": [
    {
     "data": {
      "text/plain": [
       "u'FULTON ST/LAFAYETTE AV'"
      ]
     },
     "execution_count": 28,
     "metadata": {},
     "output_type": "execute_result"
    }
   ],
   "source": []
  },
  {
   "cell_type": "code",
   "execution_count": 37,
   "metadata": {
    "collapsed": false
   },
   "outputs": [
    {
     "name": "stdout",
     "output_type": "stream",
     "text": [
      "Bus 0 is at latitude -73.976708 and longitude 40.687228, at stop, FULTON ST/LAFAYETTE AV\n",
      "Bus 1 is at latitude -73.956811 and longitude 40.685498, at stop, FULTON ST/LAFAYETTE AV\n",
      "Bus 2 is at latitude -73.976947 and longitude 40.687321, at stop, FULTON ST/LAFAYETTE AV\n",
      "Bus 3 is at latitude -73.933049 and longitude 40.688237, at stop, FULTON ST/LAFAYETTE AV\n",
      "Bus 4 is at latitude -73.962411 and longitude 40.687105, at stop, FULTON ST/LAFAYETTE AV\n",
      "Bus 5 is at latitude -73.950569 and longitude 40.686217, at stop, FULTON ST/LAFAYETTE AV\n",
      "Bus 6 is at latitude -73.917896 and longitude 40.69374, at stop, FULTON ST/LAFAYETTE AV\n",
      "Bus 7 is at latitude -73.919663 and longitude 40.69194, at stop, FULTON ST/LAFAYETTE AV\n",
      "Bus 8 is at latitude -73.921905 and longitude 40.689657, at stop, FULTON ST/LAFAYETTE AV\n",
      "Bus 9 is at latitude -73.911252 and longitude 40.699312, at stop, FULTON ST/LAFAYETTE AV\n",
      "Bus 10 is at latitude -73.979602 and longitude 40.688378, at stop, FULTON ST/LAFAYETTE AV\n",
      "Bus 11 is at latitude -73.969021 and longitude 40.686341, at stop, FULTON ST/LAFAYETTE AV\n",
      "Bus 12 is at latitude -73.959406 and longitude 40.685867, at stop, FULTON ST/LAFAYETTE AV\n"
     ]
    }
   ],
   "source": [
    "BusCounter = 0\n",
    "for it in AllBuses:\n",
    "    Lat = str(it['MonitoredVehicleJourney']['VehicleLocation']['Longitude'])\n",
    "    Lon = str(it['MonitoredVehicleJourney']['VehicleLocation']['Latitude'])\n",
    "    StopStatus = str(it['MonitoredVehicleJourney']['OnwardCalls']['OnwardCall'][0]['Extensions']['Distances']['PresentableDistance']) #The next stop for Bus 0 of active buses\n",
    "    StopName = str(it['MonitoredVehicleJourney']['OnwardCalls']['OnwardCall'][0]['StopPointName'])\n",
    "    print ('Bus {} is at latitude {} and longitude {}, {}, {}'.format(BusCounter,Lat, Lon, StopStatus, StopName))\n",
    "    BusCounter += 1"
   ]
  },
  {
   "cell_type": "code",
   "execution_count": null,
   "metadata": {
    "collapsed": true
   },
   "outputs": [],
   "source": []
  },
  {
   "cell_type": "code",
   "execution_count": null,
   "metadata": {
    "collapsed": true
   },
   "outputs": [],
   "source": []
  },
  {
   "cell_type": "code",
   "execution_count": null,
   "metadata": {
    "collapsed": true
   },
   "outputs": [],
   "source": []
  },
  {
   "cell_type": "code",
   "execution_count": null,
   "metadata": {
    "collapsed": true
   },
   "outputs": [],
   "source": []
  },
  {
   "cell_type": "code",
   "execution_count": null,
   "metadata": {
    "collapsed": true
   },
   "outputs": [],
   "source": []
  },
  {
   "cell_type": "code",
   "execution_count": null,
   "metadata": {
    "collapsed": true
   },
   "outputs": [],
   "source": []
  },
  {
   "cell_type": "code",
   "execution_count": null,
   "metadata": {
    "collapsed": true
   },
   "outputs": [],
   "source": [
    "# Author: federica bianco, NYU, September 2016\n",
    "##############################\n",
    "# Code written to demonstrate ho to pass arguments to a python script\n",
    "# for HW2 of PUI2016\n",
    "# http://cosmo.nyu.edu/~fb55/PUI2016\n",
    "##############################\n",
    "# put the name of the outut file as input argument:\n",
    "# i.e. run the code as\n",
    "#      python aPythonScriptThatWritesToCSV.py mycvs.csv\n",
    "###########\n",
    "\n",
    "# the next line import packages that change the python 2 print function\n",
    "# so that it require the same syntax as python 3\n",
    "# thus the code will work both in python 2 and python 3\n",
    "from __future__ import print_function\n",
    "# the next import allows me to read line input arguments\n",
    "import sys\n",
    "\n",
    "\n",
    "# this line checks how many arguments are passed to python\n",
    "# the arguments are stored in sys.argv which is a list\n",
    "# the first argument is the name of the code\n",
    "# so sys.argv is a list with at least one element\n",
    "# with the output filename in input it will be a list of 2\n",
    "# if you add more than one word as argument it will give you an error as well\n",
    "if not len(sys.argv) == 2:\n",
    "    print (\"Invalid number of arguments. Run as: python aPythonScriptThatWritesToCSV.py mycvs.csv\")\n",
    "    sys.exit()\n",
    "\n",
    "# this line opens a file for writing using the name you chose\n",
    "# the \"w\" tells it you are opening for writing, not reading\n",
    "fout = open(sys.argv[1], \"w\")\n",
    "\n",
    "# this line prints the numbers from 1 to 10 separated by commas\n",
    "# 10 times in 10 rows\n",
    "# to your output file\n",
    "# notice the \"\\n\" character at the end of each line:\n",
    "# that's the line break\n",
    "for i in range(10):\n",
    "    fout.write(\"1,2,3,4,5,6,7,8,9,10\\n\")\n",
    "\n",
    "# this prints an empty line \n",
    "fout.write(\"\\n\")\n",
    "\n",
    "# this line prints the numbers from i to i+10, with i equal to the line number (starting at 0) separated by commas\n",
    "# 10 times in 10 rows to your output file\n",
    "# Note that this is done with a nested for loop, in C style. This is not \"pythonic\", notinelegant and very inefficient\n",
    "\n",
    "for i in range(10):\n",
    "    thisline = \"\"\n",
    "    for j in range(10):\n",
    "        thisline += \"%d,\"%(i+j)\n",
    "    #.strip(',') removes the last comma\n",
    "fout.write(thisline.strip(',')+\"\\n\")"
   ]
  }
 ],
 "metadata": {
  "kernelspec": {
   "display_name": "PUI2016_Python2",
   "language": "python",
   "name": "pui2016_python2"
  },
  "language_info": {
   "codemirror_mode": {
    "name": "ipython",
    "version": 2
   },
   "file_extension": ".py",
   "mimetype": "text/x-python",
   "name": "python",
   "nbconvert_exporter": "python",
   "pygments_lexer": "ipython2",
   "version": "2.7.12"
  }
 },
 "nbformat": 4,
 "nbformat_minor": 0
}
