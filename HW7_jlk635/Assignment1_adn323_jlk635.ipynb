{
 "cells": [
  {
   "cell_type": "markdown",
   "metadata": {},
   "source": [
    "# Written by Andrew Nell @andrewnell and Jon Kastelan #JKtours (jlk635)\n",
    "# HW7 Assignment 1\n"
   ]
  },
  {
   "cell_type": "code",
   "execution_count": 1,
   "metadata": {
    "collapsed": false
   },
   "outputs": [
    {
     "name": "stdout",
     "output_type": "stream",
     "text": [
      "Populating the interactive namespace from numpy and matplotlib\n"
     ]
    }
   ],
   "source": [
    "from __future__  import print_function, division\n",
    "import pylab as pl\n",
    "import pandas as pd\n",
    "import numpy as np\n",
    "import os\n",
    "import scipy.stats\n",
    "\n",
    "\n",
    "%pylab inline\n",
    "\n",
    "if os.getenv ('PUI2016') is None:\n",
    "    print (\"Must set env variable PUI2017\")\n",
    "if os.getenv ('PUIDATA') is None:\n",
    "    print (\"Must set env variable PUI2017\")"
   ]
  },
  {
   "cell_type": "code",
   "execution_count": 2,
   "metadata": {
    "collapsed": false
   },
   "outputs": [],
   "source": [
    "#Define function for downloading file from internet and sending to PUIData\n",
    "\"\"\"Function to download file from internet and save in PUIdata\"\"\"\n",
    "\n",
    "def getbikedata(Datestr):\n",
    "    \n",
    "    os.system(\"curl -O https://s3.amazonaws.com/tripdata/\" + Datestr + \"-citibike-tripdata.zip\")\n",
    "    \n",
    "    os.system(\"mv \" + Datestr + \"-citibike-tripdata.zip \" + os.getenv(\"PUIDATA\"))\n",
    "    \n",
    "    os.system(\"unzip \" + os.getenv(\"PUIDATA\") + \"/\" + Datestr + \"-citibike-tripdata.zip -d \" + os.getenv(\"PUIDATA\")) "
   ]
  },
  {
   "cell_type": "markdown",
   "metadata": {},
   "source": [
    "# IDEA:\n",
    "## Subscribers are less likely to travel for more than 45 minutes than customers\n",
    "#### This is believed to be the case as citibike subscribers are allotted 45 minutes for a single trip (as part of their annual subscription) before additional charges are applied. Customers on the other hand are charged by 15 minute increments (with the first 30 minutes covered by daily fixed). \n",
    "##### (Incorporated feedback from reviewer mms911)\n",
    "\n",
    "# NULL HYPOTHESIS:\n",
    "## The proportion of subscribers who traveled over 45 minutes is the same as or greater than the proportion of customers who traveled over 45 minutes \n",
    "##### (Incorporated feedback from reviewer mms911)\n",
    "\n",
    "# _$H_0$_ : $\\frac{C_{\\mathrm{Over 45}}}{C_{\\mathrm{Total}}} <= \\frac{S_{\\mathrm{Over 45}}}{S_{\\mathrm{Total}}}$\n",
    "# _$H_1$_ : $\\frac{C_{\\mathrm{Over 45}}}{C_{\\mathrm{total}}} > \\frac{S_{\\mathrm{Over 45}}}{S_{\\mathrm{Total}}}$\n",
    "\n",
    "\n",
    "## We use a significance level  $\\alpha=0.05$\n",
    "\n",
    "#### which means I want the probability of getting a result at least as significant as mine to be less then 5%"
   ]
  },
  {
   "cell_type": "code",
   "execution_count": 3,
   "metadata": {
    "collapsed": false
   },
   "outputs": [],
   "source": [
    "# Import data for specific date\n",
    "Datestr = \"201612\"\n",
    "getbikedata(Datestr) #Move file 201612 into PUIdata"
   ]
  },
  {
   "cell_type": "code",
   "execution_count": 4,
   "metadata": {
    "collapsed": false,
    "scrolled": true
   },
   "outputs": [
    {
     "data": {
      "text/html": [
       "<div>\n",
       "<table border=\"1\" class=\"dataframe\">\n",
       "  <thead>\n",
       "    <tr style=\"text-align: right;\">\n",
       "      <th></th>\n",
       "      <th>Trip Duration</th>\n",
       "      <th>Start Time</th>\n",
       "      <th>Stop Time</th>\n",
       "      <th>Start Station ID</th>\n",
       "      <th>Start Station Name</th>\n",
       "      <th>Start Station Latitude</th>\n",
       "      <th>Start Station Longitude</th>\n",
       "      <th>End Station ID</th>\n",
       "      <th>End Station Name</th>\n",
       "      <th>End Station Latitude</th>\n",
       "      <th>End Station Longitude</th>\n",
       "      <th>Bike ID</th>\n",
       "      <th>User Type</th>\n",
       "      <th>Birth Year</th>\n",
       "      <th>Gender</th>\n",
       "      <th>Over45</th>\n",
       "    </tr>\n",
       "  </thead>\n",
       "  <tbody>\n",
       "    <tr>\n",
       "      <th>0</th>\n",
       "      <td>528</td>\n",
       "      <td>2016-12-01 00:00:04</td>\n",
       "      <td>2016-12-01 00:08:52</td>\n",
       "      <td>499</td>\n",
       "      <td>Broadway &amp; W 60 St</td>\n",
       "      <td>40.769155</td>\n",
       "      <td>-73.981918</td>\n",
       "      <td>228</td>\n",
       "      <td>E 48 St &amp; 3 Ave</td>\n",
       "      <td>40.754601</td>\n",
       "      <td>-73.971879</td>\n",
       "      <td>26931</td>\n",
       "      <td>Subscriber</td>\n",
       "      <td>1964.0</td>\n",
       "      <td>1</td>\n",
       "      <td>Under 45</td>\n",
       "    </tr>\n",
       "    <tr>\n",
       "      <th>1</th>\n",
       "      <td>218</td>\n",
       "      <td>2016-12-01 00:00:28</td>\n",
       "      <td>2016-12-01 00:04:06</td>\n",
       "      <td>3418</td>\n",
       "      <td>Plaza St West &amp; Flatbush Ave</td>\n",
       "      <td>40.675021</td>\n",
       "      <td>-73.971115</td>\n",
       "      <td>3358</td>\n",
       "      <td>Garfield Pl &amp; 8 Ave</td>\n",
       "      <td>40.671198</td>\n",
       "      <td>-73.974841</td>\n",
       "      <td>27122</td>\n",
       "      <td>Subscriber</td>\n",
       "      <td>1955.0</td>\n",
       "      <td>1</td>\n",
       "      <td>Under 45</td>\n",
       "    </tr>\n",
       "    <tr>\n",
       "      <th>2</th>\n",
       "      <td>399</td>\n",
       "      <td>2016-12-01 00:00:39</td>\n",
       "      <td>2016-12-01 00:07:19</td>\n",
       "      <td>297</td>\n",
       "      <td>E 15 St &amp; 3 Ave</td>\n",
       "      <td>40.734232</td>\n",
       "      <td>-73.986923</td>\n",
       "      <td>345</td>\n",
       "      <td>W 13 St &amp; 6 Ave</td>\n",
       "      <td>40.736494</td>\n",
       "      <td>-73.997044</td>\n",
       "      <td>19352</td>\n",
       "      <td>Subscriber</td>\n",
       "      <td>1985.0</td>\n",
       "      <td>1</td>\n",
       "      <td>Under 45</td>\n",
       "    </tr>\n",
       "    <tr>\n",
       "      <th>3</th>\n",
       "      <td>254</td>\n",
       "      <td>2016-12-01 00:00:44</td>\n",
       "      <td>2016-12-01 00:04:59</td>\n",
       "      <td>405</td>\n",
       "      <td>Washington St &amp; Gansevoort St</td>\n",
       "      <td>40.739323</td>\n",
       "      <td>-74.008119</td>\n",
       "      <td>358</td>\n",
       "      <td>Christopher St &amp; Greenwich St</td>\n",
       "      <td>40.732916</td>\n",
       "      <td>-74.007114</td>\n",
       "      <td>20015</td>\n",
       "      <td>Subscriber</td>\n",
       "      <td>1982.0</td>\n",
       "      <td>1</td>\n",
       "      <td>Under 45</td>\n",
       "    </tr>\n",
       "    <tr>\n",
       "      <th>4</th>\n",
       "      <td>1805</td>\n",
       "      <td>2016-12-01 00:00:54</td>\n",
       "      <td>2016-12-01 00:31:00</td>\n",
       "      <td>279</td>\n",
       "      <td>Peck Slip &amp; Front St</td>\n",
       "      <td>40.707873</td>\n",
       "      <td>-74.001670</td>\n",
       "      <td>279</td>\n",
       "      <td>Peck Slip &amp; Front St</td>\n",
       "      <td>40.707873</td>\n",
       "      <td>-74.001670</td>\n",
       "      <td>23148</td>\n",
       "      <td>Subscriber</td>\n",
       "      <td>1989.0</td>\n",
       "      <td>1</td>\n",
       "      <td>Under 45</td>\n",
       "    </tr>\n",
       "  </tbody>\n",
       "</table>\n",
       "</div>"
      ],
      "text/plain": [
       "   Trip Duration           Start Time            Stop Time  Start Station ID  \\\n",
       "0            528  2016-12-01 00:00:04  2016-12-01 00:08:52               499   \n",
       "1            218  2016-12-01 00:00:28  2016-12-01 00:04:06              3418   \n",
       "2            399  2016-12-01 00:00:39  2016-12-01 00:07:19               297   \n",
       "3            254  2016-12-01 00:00:44  2016-12-01 00:04:59               405   \n",
       "4           1805  2016-12-01 00:00:54  2016-12-01 00:31:00               279   \n",
       "\n",
       "              Start Station Name  Start Station Latitude  \\\n",
       "0             Broadway & W 60 St               40.769155   \n",
       "1   Plaza St West & Flatbush Ave               40.675021   \n",
       "2                E 15 St & 3 Ave               40.734232   \n",
       "3  Washington St & Gansevoort St               40.739323   \n",
       "4           Peck Slip & Front St               40.707873   \n",
       "\n",
       "   Start Station Longitude  End Station ID               End Station Name  \\\n",
       "0               -73.981918             228                E 48 St & 3 Ave   \n",
       "1               -73.971115            3358            Garfield Pl & 8 Ave   \n",
       "2               -73.986923             345                W 13 St & 6 Ave   \n",
       "3               -74.008119             358  Christopher St & Greenwich St   \n",
       "4               -74.001670             279           Peck Slip & Front St   \n",
       "\n",
       "   End Station Latitude  End Station Longitude  Bike ID   User Type  \\\n",
       "0             40.754601             -73.971879    26931  Subscriber   \n",
       "1             40.671198             -73.974841    27122  Subscriber   \n",
       "2             40.736494             -73.997044    19352  Subscriber   \n",
       "3             40.732916             -74.007114    20015  Subscriber   \n",
       "4             40.707873             -74.001670    23148  Subscriber   \n",
       "\n",
       "   Birth Year  Gender    Over45  \n",
       "0      1964.0       1  Under 45  \n",
       "1      1955.0       1  Under 45  \n",
       "2      1985.0       1  Under 45  \n",
       "3      1982.0       1  Under 45  \n",
       "4      1989.0       1  Under 45  "
      ]
     },
     "execution_count": 4,
     "metadata": {},
     "output_type": "execute_result"
    }
   ],
   "source": [
    "# Read data and move into dataframe\n",
    "CitibikeData = pd.read_csv(os.getenv(\"PUIDATA\") + \"/\" + Datestr + \"-citibike-tripdata.csv\")\n",
    "\n",
    "# Add columns for over/under 45 minutes\n",
    "CitibikeData['Over45'] = CitibikeData['Trip Duration']> 45*60\n",
    "CitibikeData['Over45'] = CitibikeData['Over45'].astype(int)\n",
    "CitibikeData['Over45'] = CitibikeData['Over45'].replace(0,\"Under 45\")\n",
    "CitibikeData['Over45'] = CitibikeData['Over45'].replace(1,\"Over 45\")\n",
    "\n",
    "CitibikeData.head()"
   ]
  },
  {
   "cell_type": "code",
   "execution_count": 5,
   "metadata": {
    "collapsed": false,
    "scrolled": true
   },
   "outputs": [
    {
     "data": {
      "text/html": [
       "<div>\n",
       "<table border=\"1\" class=\"dataframe\">\n",
       "  <thead>\n",
       "    <tr style=\"text-align: right;\">\n",
       "      <th></th>\n",
       "      <th>User Type</th>\n",
       "      <th>Over45</th>\n",
       "    </tr>\n",
       "  </thead>\n",
       "  <tbody>\n",
       "    <tr>\n",
       "      <th>0</th>\n",
       "      <td>Subscriber</td>\n",
       "      <td>Under 45</td>\n",
       "    </tr>\n",
       "    <tr>\n",
       "      <th>1</th>\n",
       "      <td>Subscriber</td>\n",
       "      <td>Under 45</td>\n",
       "    </tr>\n",
       "    <tr>\n",
       "      <th>2</th>\n",
       "      <td>Subscriber</td>\n",
       "      <td>Under 45</td>\n",
       "    </tr>\n",
       "    <tr>\n",
       "      <th>3</th>\n",
       "      <td>Subscriber</td>\n",
       "      <td>Under 45</td>\n",
       "    </tr>\n",
       "    <tr>\n",
       "      <th>4</th>\n",
       "      <td>Subscriber</td>\n",
       "      <td>Under 45</td>\n",
       "    </tr>\n",
       "    <tr>\n",
       "      <th>5</th>\n",
       "      <td>Subscriber</td>\n",
       "      <td>Under 45</td>\n",
       "    </tr>\n",
       "    <tr>\n",
       "      <th>6</th>\n",
       "      <td>Subscriber</td>\n",
       "      <td>Under 45</td>\n",
       "    </tr>\n",
       "    <tr>\n",
       "      <th>7</th>\n",
       "      <td>Subscriber</td>\n",
       "      <td>Under 45</td>\n",
       "    </tr>\n",
       "    <tr>\n",
       "      <th>8</th>\n",
       "      <td>Customer</td>\n",
       "      <td>Under 45</td>\n",
       "    </tr>\n",
       "    <tr>\n",
       "      <th>9</th>\n",
       "      <td>Subscriber</td>\n",
       "      <td>Under 45</td>\n",
       "    </tr>\n",
       "  </tbody>\n",
       "</table>\n",
       "</div>"
      ],
      "text/plain": [
       "    User Type    Over45\n",
       "0  Subscriber  Under 45\n",
       "1  Subscriber  Under 45\n",
       "2  Subscriber  Under 45\n",
       "3  Subscriber  Under 45\n",
       "4  Subscriber  Under 45\n",
       "5  Subscriber  Under 45\n",
       "6  Subscriber  Under 45\n",
       "7  Subscriber  Under 45\n",
       "8    Customer  Under 45\n",
       "9  Subscriber  Under 45"
      ]
     },
     "execution_count": 5,
     "metadata": {},
     "output_type": "execute_result"
    }
   ],
   "source": [
    "# Drop Columns that are irrelevant\n",
    "CitibikeData.drop(['Trip Duration','Start Time', 'Stop Time', 'Start Station ID',\n",
    "                   'Start Station Name', 'Start Station Latitude',\n",
    "                   'Start Station Longitude', 'End Station ID', \n",
    "                   'End Station Name','End Station Latitude', \n",
    "                   'End Station Longitude', 'Bike ID', \n",
    "                   'Birth Year', 'Gender'], \n",
    "                  axis=1, inplace=True)\n",
    "\n",
    "CitibikeData.head(10)"
   ]
  },
  {
   "cell_type": "code",
   "execution_count": 6,
   "metadata": {
    "collapsed": false,
    "scrolled": true
   },
   "outputs": [
    {
     "name": "stderr",
     "output_type": "stream",
     "text": [
      "/opt/rh/anaconda/root/envs/PUI2016_Python2/lib/python2.7/site-packages/ipykernel/__main__.py:9: SettingWithCopyWarning: \n",
      "A value is trying to be set on a copy of a slice from a DataFrame\n",
      "\n",
      "See the caveats in the documentation: http://pandas.pydata.org/pandas-docs/stable/indexing.html#indexing-view-versus-copy\n",
      "/opt/rh/anaconda/root/envs/PUI2016_Python2/lib/python2.7/site-packages/ipykernel/__main__.py:10: SettingWithCopyWarning: \n",
      "A value is trying to be set on a copy of a slice from a DataFrame\n",
      "\n",
      "See the caveats in the documentation: http://pandas.pydata.org/pandas-docs/stable/indexing.html#indexing-view-versus-copy\n"
     ]
    },
    {
     "data": {
      "text/html": [
       "<div>\n",
       "<table border=\"1\" class=\"dataframe\">\n",
       "  <thead>\n",
       "    <tr style=\"text-align: right;\">\n",
       "      <th></th>\n",
       "      <th>User Type</th>\n",
       "      <th>Over45</th>\n",
       "      <th>Count</th>\n",
       "    </tr>\n",
       "  </thead>\n",
       "  <tbody>\n",
       "    <tr>\n",
       "      <th>0</th>\n",
       "      <td>Customer</td>\n",
       "      <td>Over 45</td>\n",
       "      <td>9.327922</td>\n",
       "    </tr>\n",
       "    <tr>\n",
       "      <th>1</th>\n",
       "      <td>Customer</td>\n",
       "      <td>Under 45</td>\n",
       "      <td>90.672078</td>\n",
       "    </tr>\n",
       "    <tr>\n",
       "      <th>2</th>\n",
       "      <td>Subscriber</td>\n",
       "      <td>Over 45</td>\n",
       "      <td>0.486647</td>\n",
       "    </tr>\n",
       "    <tr>\n",
       "      <th>3</th>\n",
       "      <td>Subscriber</td>\n",
       "      <td>Under 45</td>\n",
       "      <td>99.513353</td>\n",
       "    </tr>\n",
       "  </tbody>\n",
       "</table>\n",
       "</div>"
      ],
      "text/plain": [
       "    User Type    Over45      Count\n",
       "0    Customer   Over 45   9.327922\n",
       "1    Customer  Under 45  90.672078\n",
       "2  Subscriber   Over 45   0.486647\n",
       "3  Subscriber  Under 45  99.513353"
      ]
     },
     "execution_count": 6,
     "metadata": {},
     "output_type": "execute_result"
    }
   ],
   "source": [
    "# Determine Total Customers and Subscribers to convert data to percentages\n",
    "TotalCustomer = CitibikeData['User Type'][CitibikeData['User Type'] == 'Customer'].count()/100\n",
    "TotalSubscriber = CitibikeData['User Type'][CitibikeData['User Type'] == 'Subscriber'].count()/100\n",
    "\n",
    "# Group data into counts\n",
    "CitiBikeSumm = CitibikeData.groupby('User Type')['Over45'].value_counts().unstack(level=-1).stack(dropna=False).reset_index(name=\"Count\")\n",
    "\n",
    "# Convert to percentages\n",
    "CitiBikeSumm['Count'][CitiBikeSumm['User Type'] == 'Subscriber'] = CitiBikeSumm['Count'][CitiBikeSumm['User Type'] == 'Subscriber']/TotalSubscriber\n",
    "CitiBikeSumm['Count'][CitiBikeSumm['User Type'] == 'Customer'] = CitiBikeSumm['Count'][CitiBikeSumm['User Type'] == 'Customer']/TotalCustomer\n",
    "\n",
    "CitiBikeSumm"
   ]
  },
  {
   "cell_type": "code",
   "execution_count": 7,
   "metadata": {
    "collapsed": false
   },
   "outputs": [
    {
     "data": {
      "text/html": [
       "<div>\n",
       "<table border=\"1\" class=\"dataframe\">\n",
       "  <thead>\n",
       "    <tr style=\"text-align: right;\">\n",
       "      <th>Over45</th>\n",
       "      <th>Over 45</th>\n",
       "      <th>Under 45</th>\n",
       "    </tr>\n",
       "    <tr>\n",
       "      <th>User Type</th>\n",
       "      <th></th>\n",
       "      <th></th>\n",
       "    </tr>\n",
       "  </thead>\n",
       "  <tbody>\n",
       "    <tr>\n",
       "      <th>Customer</th>\n",
       "      <td>9.327922</td>\n",
       "      <td>90.672078</td>\n",
       "    </tr>\n",
       "    <tr>\n",
       "      <th>Subscriber</th>\n",
       "      <td>0.486647</td>\n",
       "      <td>99.513353</td>\n",
       "    </tr>\n",
       "  </tbody>\n",
       "</table>\n",
       "</div>"
      ],
      "text/plain": [
       "Over45       Over 45   Under 45\n",
       "User Type                      \n",
       "Customer    9.327922  90.672078\n",
       "Subscriber  0.486647  99.513353"
      ]
     },
     "execution_count": 7,
     "metadata": {},
     "output_type": "execute_result"
    }
   ],
   "source": [
    "finaldf = CitiBikeSumm.pivot(index='User Type', columns='Over45', \n",
    "                   values='Count')\n",
    "finaldf"
   ]
  },
  {
   "cell_type": "code",
   "execution_count": 8,
   "metadata": {
    "collapsed": false
   },
   "outputs": [
    {
     "data": {
      "text/plain": [
       "<matplotlib.figure.Figure at 0x7fb18e1f4850>"
      ]
     },
     "metadata": {},
     "output_type": "display_data"
    },
    {
     "data": {
      "image/png": "[encoded data removed]",
      "text/plain": [
       "<matplotlib.figure.Figure at 0x7fb10a657d90>"
      ]
     },
     "metadata": {},
     "output_type": "display_data"
    }
   ],
   "source": [
    "# Set up figures\n",
    "fig = pl.figure(figsize(8,8))\n",
    "\n",
    "# plot charts\n",
    "finaldf[[\"Over 45\"]].plot(kind=\"bar\", color=['Purple'])\n",
    "\n",
    "# Format Charts\n",
    "pl.title('Percentage of Customers/Subscribers who ride over 45 Minutes', \n",
    "         fontsize = 18)\n",
    "pl.xlabel('User type', fontsize = 18)\n",
    "pl.ylabel('Percentage over 45 minutes', fontsize = 18)\n",
    "pl.xticks([0,1],[\"Customer\",\"Subscriber\"], fontsize = 18,rotation='horizontal')\n",
    "pl.legend();\n"
   ]
  },
  {
   "cell_type": "markdown",
   "metadata": {},
   "source": [
    "## Figure 1: Percentage Customers and Subscribers who ride over 45 minutes \n",
    "\n",
    "### Note: The percentage of trips that subscribers travel for over 45 minutes is small in comparison to the Customers. Let's assess if this is statistically different."
   ]
  },
  {
   "cell_type": "code",
   "execution_count": null,
   "metadata": {
    "collapsed": true
   },
   "outputs": [],
   "source": []
  },
  {
   "cell_type": "markdown",
   "metadata": {},
   "source": [
    "### Is the percentage of Customers that travel for more than 45 minutes greater than or equal to that of the percentage of Subscribers\n",
    "## The statistics is: \n",
    "# $z = \\frac{(p_0 - p_1)}{SE} $\n",
    "# $p =\\frac{p_0  n_0 + p_1  n_1}{n_0+n_1}$\n",
    "# $SE = \\sqrt{ p  ( 1 - p )  (\\frac{1}{n_0} + \\frac{1}{n_1}) }$\n",
    "## and in this notation \n",
    "# $p_0 = \\frac{S_{\\mathrm{Over 45}}}{S_{\\mathrm{Total}}}$\n",
    "### and \n",
    "# $p_1 = \\frac{C_{\\mathrm{Over 45}}}{C_{\\mathrm{Total}}}$\n"
   ]
  },
  {
   "cell_type": "code",
   "execution_count": 9,
   "metadata": {
    "collapsed": false
   },
   "outputs": [
    {
     "data": {
      "text/plain": [
       "(0.0048664691493236281, 0.093279222775625656)"
      ]
     },
     "execution_count": 9,
     "metadata": {},
     "output_type": "execute_result"
    }
   ],
   "source": [
    "P0 = finaldf[[\"Over 45\"]].loc[\"Subscriber\"][0]/100\n",
    "P1 = finaldf[[\"Over 45\"]].loc[\"Customer\"][0]/100\n",
    "P0, P1"
   ]
  },
  {
   "cell_type": "code",
   "execution_count": 10,
   "metadata": {
    "collapsed": false
   },
   "outputs": [
    {
     "data": {
      "text/html": [
       "<div>\n",
       "<table border=\"1\" class=\"dataframe\">\n",
       "  <thead>\n",
       "    <tr style=\"text-align: right;\">\n",
       "      <th></th>\n",
       "      <th>User Type</th>\n",
       "      <th>Over45</th>\n",
       "      <th>Count</th>\n",
       "    </tr>\n",
       "  </thead>\n",
       "  <tbody>\n",
       "    <tr>\n",
       "      <th>0</th>\n",
       "      <td>Customer</td>\n",
       "      <td>Over 45</td>\n",
       "      <td>3034</td>\n",
       "    </tr>\n",
       "    <tr>\n",
       "      <th>2</th>\n",
       "      <td>Subscriber</td>\n",
       "      <td>Over 45</td>\n",
       "      <td>3768</td>\n",
       "    </tr>\n",
       "  </tbody>\n",
       "</table>\n",
       "</div>"
      ],
      "text/plain": [
       "    User Type   Over45  Count\n",
       "0    Customer  Over 45   3034\n",
       "2  Subscriber  Over 45   3768"
      ]
     },
     "execution_count": 10,
     "metadata": {},
     "output_type": "execute_result"
    }
   ],
   "source": [
    "CitiBikeCounts = CitibikeData.groupby('User Type')['Over45'].value_counts().unstack(level=-1).stack(dropna=False).reset_index(name=\"Count\")\n",
    "CitiBikeCountsOver45 = CitiBikeCounts.loc[CitiBikeCounts['Over45'] == 'Over 45']\n",
    "\n",
    "CitiBikeCountsOver45"
   ]
  },
  {
   "cell_type": "code",
   "execution_count": 11,
   "metadata": {
    "collapsed": false
   },
   "outputs": [
    {
     "data": {
      "text/plain": [
       "(3768, 3034)"
      ]
     },
     "execution_count": 11,
     "metadata": {},
     "output_type": "execute_result"
    }
   ],
   "source": [
    "n0 = int(CitiBikeCountsOver45.loc[CitiBikeCountsOver45['User Type'] == 'Subscriber'][\"Count\"])\n",
    "n1 = int(CitiBikeCountsOver45.loc[CitiBikeCountsOver45['User Type'] == 'Customer'][\"Count\"])\n",
    "n0, n1"
   ]
  },
  {
   "cell_type": "code",
   "execution_count": null,
   "metadata": {
    "collapsed": false
   },
   "outputs": [],
   "source": []
  },
  {
   "cell_type": "code",
   "execution_count": 12,
   "metadata": {
    "collapsed": false
   },
   "outputs": [
    {
     "name": "stdout",
     "output_type": "stream",
     "text": [
      "Difference between Subscribers who ride over 45 mins and Customers who ride over 45 mins is:  -0.0884127536263\n",
      "In accordance with Null Hypothesis\n"
     ]
    }
   ],
   "source": [
    "P0mP1 = P0 - P1\n",
    "print (\"Difference between Subscribers who ride over 45 mins and Customers who ride over 45 mins is: \", P0mP1)\n",
    "if P0mP1 <= 0:\n",
    "    # we are done...\n",
    "    print(\"In accordance with Null Hypothesis\")\n",
    "else:\n",
    "    # morework to do\n",
    "    print (\"We must check the significance before we reject the Null Hypothesis\")"
   ]
  },
  {
   "cell_type": "markdown",
   "metadata": {},
   "source": [
    "### Is this difference statistically significant?"
   ]
  },
  {
   "cell_type": "code",
   "execution_count": 13,
   "metadata": {
    "collapsed": false
   },
   "outputs": [
    {
     "data": {
      "text/plain": [
       "(0.044303, 0.005019, -17.615611401933059)"
      ]
     },
     "execution_count": 13,
     "metadata": {},
     "output_type": "execute_result"
    }
   ],
   "source": [
    "Pcomb = round(float((P0 * n0 + P1 * n1) / (n0 + n1)),6)\n",
    "SEp = round(float(np.sqrt(Pcomb * (1 - Pcomb) * ( (1. / n0) + (1. / n1)))),6)\n",
    "zStat = (P0mP1 - 0) / SEp\n",
    "Pcomb, SEp, zStat"
   ]
  },
  {
   "cell_type": "code",
   "execution_count": 14,
   "metadata": {
    "collapsed": false
   },
   "outputs": [
    {
     "name": "stdout",
     "output_type": "stream",
     "text": [
      "The z statistic is -17.62 and corresponding p-value is 1.6520e-68.\n"
     ]
    }
   ],
   "source": [
    "pVal = scipy.stats.norm.pdf(zStat)\n",
    "print (\"The z statistic is {:.2f} and corresponding p-value is {:.4e}.\".format(zStat,pVal))\n",
    "\n"
   ]
  },
  {
   "cell_type": "markdown",
   "metadata": {},
   "source": [
    "#### The   p value is a lot smaller than our chosen $\\alpha=0.05$ - so yes, the result is statistically significant (by a lot!)"
   ]
  },
  {
   "cell_type": "markdown",
   "metadata": {},
   "source": [
    "# We reject the Null Hypothesis, and conclude that the proportion of Subscribers who ride for greater than 45 minutes is higher than the proportion of Customers who ride for greater than 45 minutes.   $p< 0.05$"
   ]
  },
  {
   "cell_type": "code",
   "execution_count": null,
   "metadata": {
    "collapsed": true
   },
   "outputs": [],
   "source": []
  },
  {
   "cell_type": "markdown",
   "metadata": {},
   "source": [
    "# Chi-squared test"
   ]
  },
  {
   "cell_type": "markdown",
   "metadata": {},
   "source": [
    "\n",
    "* Contingency table populated with ridership type and trip over and under 45 mins*\n",
    "\n",
    "|Citibike ridership     |     Over 45   | Under 45        |     Total              \n",
    "|---------------------------|-----------|-----------|----------------|\n",
    "| Customer               |   3034        |      29492     |        32526        |\n",
    "| Subscriber             |     3768      |      770510     |     774278           |\n",
    "|                           |           |           |                |\n",
    "| Total                     |      6802    |   800002       |        806804       |"
   ]
  },
  {
   "cell_type": "code",
   "execution_count": 18,
   "metadata": {
    "collapsed": false
   },
   "outputs": [
    {
     "data": {
      "text/html": [
       "<div>\n",
       "<table border=\"1\" class=\"dataframe\">\n",
       "  <thead>\n",
       "    <tr style=\"text-align: right;\">\n",
       "      <th>Over45</th>\n",
       "      <th>Over 45</th>\n",
       "      <th>Under 45</th>\n",
       "    </tr>\n",
       "    <tr>\n",
       "      <th>User Type</th>\n",
       "      <th></th>\n",
       "      <th></th>\n",
       "    </tr>\n",
       "  </thead>\n",
       "  <tbody>\n",
       "    <tr>\n",
       "      <th>Customer</th>\n",
       "      <td>3034</td>\n",
       "      <td>29492</td>\n",
       "    </tr>\n",
       "    <tr>\n",
       "      <th>Subscriber</th>\n",
       "      <td>3768</td>\n",
       "      <td>770510</td>\n",
       "    </tr>\n",
       "  </tbody>\n",
       "</table>\n",
       "</div>"
      ],
      "text/plain": [
       "Over45      Over 45  Under 45\n",
       "User Type                    \n",
       "Customer       3034     29492\n",
       "Subscriber     3768    770510"
      ]
     },
     "execution_count": 18,
     "metadata": {},
     "output_type": "execute_result"
    }
   ],
   "source": [
    "CitiBikeSumm.pivot(index='User Type', columns='Over45', \n",
    "                   values='Count')"
   ]
  },
  {
   "cell_type": "code",
   "execution_count": 22,
   "metadata": {
    "collapsed": false
   },
   "outputs": [
    {
     "data": {
      "text/plain": [
       "806804"
      ]
     },
     "execution_count": 22,
     "metadata": {},
     "output_type": "execute_result"
    }
   ],
   "source": [
    "3768 +770510 + 3034 + 29492"
   ]
  },
  {
   "cell_type": "code",
   "execution_count": 21,
   "metadata": {
    "collapsed": false
   },
   "outputs": [
    {
     "data": {
      "text/plain": [
       "32526"
      ]
     },
     "execution_count": 21,
     "metadata": {},
     "output_type": "execute_result"
    }
   ],
   "source": [
    "  3034        +     29492 "
   ]
  },
  {
   "cell_type": "code",
   "execution_count": null,
   "metadata": {
    "collapsed": true
   },
   "outputs": [],
   "source": []
  }
 ],
 "metadata": {
  "kernelspec": {
   "display_name": "PUI2016_Python2",
   "language": "python",
   "name": "pui2016_python2"
  },
  "language_info": {
   "codemirror_mode": {
    "name": "ipython",
    "version": 2
   },
   "file_extension": ".py",
   "mimetype": "text/x-python",
   "name": "python",
   "nbconvert_exporter": "python",
   "pygments_lexer": "ipython2",
   "version": "2.7.12"
  }
 },
 "nbformat": 4,
 "nbformat_minor": 0
}
