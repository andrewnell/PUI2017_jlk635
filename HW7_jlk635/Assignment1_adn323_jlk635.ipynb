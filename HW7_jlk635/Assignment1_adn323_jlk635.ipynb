{
 "cells": [
  {
   "cell_type": "markdown",
   "metadata": {},
   "source": [
    "# Written by Andrew Nell @andrewnell and Jon Kastelan #JKtours (jlk635)\n",
    "# HW7 Assignment 1\n"
   ]
  },
  {
   "cell_type": "code",
   "execution_count": 1,
   "metadata": {
    "collapsed": false
   },
   "outputs": [
    {
     "name": "stdout",
     "output_type": "stream",
     "text": [
      "Populating the interactive namespace from numpy and matplotlib\n"
     ]
    }
   ],
   "source": [
    "from __future__  import print_function, division\n",
    "import pylab as pl\n",
    "import pandas as pd\n",
    "import numpy as np\n",
    "import os\n",
    "import scipy.stats\n",
    "\n",
    "\n",
    "%pylab inline\n",
    "\n",
    "if os.getenv ('PUI2016') is None:\n",
    "    print (\"Must set env variable PUI2017\")\n",
    "if os.getenv ('PUIDATA') is None:\n",
    "    print (\"Must set env variable PUI2017\")"
   ]
  },
  {
   "cell_type": "code",
   "execution_count": 2,
   "metadata": {
    "collapsed": false
   },
   "outputs": [],
   "source": [
    "#Define function for downloading file from internet and sending to PUIData\n",
    "\"\"\"Function to download file from internet and save in PUIdata\"\"\"\n",
    "\n",
    "def getbikedata(Datestr):\n",
    "    \n",
    "    os.system(\"curl -O https://s3.amazonaws.com/tripdata/\" + Datestr + \"-citibike-tripdata.zip\")\n",
    "    \n",
    "    os.system(\"mv \" + Datestr + \"-citibike-tripdata.zip \" + os.getenv(\"PUIDATA\"))\n",
    "    \n",
    "    os.system(\"unzip \" + os.getenv(\"PUIDATA\") + \"/\" + Datestr + \"-citibike-tripdata.zip -d \" + os.getenv(\"PUIDATA\")) "
   ]
  },
  {
   "cell_type": "markdown",
   "metadata": {},
   "source": [
    "# IDEA:\n",
    "## Subscribers are less likely to travel for more than 45 minutes than customers\n",
    "#### This is believed to be the case as citibike subscribers are allotted 45 minutes for a single trip (as part of their annual subscription) before additional charges are applied. Customers on the other hand are charged by 15 minute increments (with the first 30 minutes covered by daily fixed). \n",
    "##### (Incorporated feedback from reviewer mms911)\n",
    "\n",
    "# NULL HYPOTHESIS:\n",
    "## The proportion of subscribers who traveled over 45 minutes is the same as or greater than the proportion of customers who traveled over 45 minutes \n",
    "##### (Incorporated feedback from reviewer mms911)\n",
    "\n",
    "# _$H_0$_ : $\\frac{C_{\\mathrm{Over 45}}}{C_{\\mathrm{Total}}} <= \\frac{S_{\\mathrm{Over 45}}}{S_{\\mathrm{Total}}}$\n",
    "# _$H_1$_ : $\\frac{C_{\\mathrm{Over 45}}}{C_{\\mathrm{total}}} > \\frac{S_{\\mathrm{Over 45}}}{S_{\\mathrm{Total}}}$\n",
    "\n",
    "\n",
    "## We use a significance level  $\\alpha=0.05$\n",
    "\n",
    "#### which means I want the probability of getting a result at least as significant as mine to be less then 5%"
   ]
  },
  {
   "cell_type": "code",
   "execution_count": 3,
   "metadata": {
    "collapsed": false
   },
   "outputs": [],
   "source": [
    "# Import data for specific date\n",
    "Datestr = \"201610\"\n",
    "getbikedata(Datestr) #Move file 201612 into PUIdata\n",
    "# Incorporated from ic1018 to use a non-winter month"
   ]
  },
  {
   "cell_type": "code",
   "execution_count": 4,
   "metadata": {
    "collapsed": false,
    "scrolled": true
   },
   "outputs": [
    {
     "data": {
      "text/html": [
       "<div>\n",
       "<table border=\"1\" class=\"dataframe\">\n",
       "  <thead>\n",
       "    <tr style=\"text-align: right;\">\n",
       "      <th></th>\n",
       "      <th>Trip Duration</th>\n",
       "      <th>Start Time</th>\n",
       "      <th>Stop Time</th>\n",
       "      <th>Start Station ID</th>\n",
       "      <th>Start Station Name</th>\n",
       "      <th>Start Station Latitude</th>\n",
       "      <th>Start Station Longitude</th>\n",
       "      <th>End Station ID</th>\n",
       "      <th>End Station Name</th>\n",
       "      <th>End Station Latitude</th>\n",
       "      <th>End Station Longitude</th>\n",
       "      <th>Bike ID</th>\n",
       "      <th>User Type</th>\n",
       "      <th>Birth Year</th>\n",
       "      <th>Gender</th>\n",
       "      <th>Over45</th>\n",
       "    </tr>\n",
       "  </thead>\n",
       "  <tbody>\n",
       "    <tr>\n",
       "      <th>0</th>\n",
       "      <td>328</td>\n",
       "      <td>2016-10-01 00:00:07</td>\n",
       "      <td>2016-10-01 00:05:35</td>\n",
       "      <td>471</td>\n",
       "      <td>Grand St &amp; Havemeyer St</td>\n",
       "      <td>40.712868</td>\n",
       "      <td>-73.956981</td>\n",
       "      <td>3077</td>\n",
       "      <td>Stagg St &amp; Union Ave</td>\n",
       "      <td>40.708771</td>\n",
       "      <td>-73.950953</td>\n",
       "      <td>25254</td>\n",
       "      <td>Subscriber</td>\n",
       "      <td>1992.0</td>\n",
       "      <td>1</td>\n",
       "      <td>Under 45</td>\n",
       "    </tr>\n",
       "    <tr>\n",
       "      <th>1</th>\n",
       "      <td>398</td>\n",
       "      <td>2016-10-01 00:00:11</td>\n",
       "      <td>2016-10-01 00:06:49</td>\n",
       "      <td>3147</td>\n",
       "      <td>E 85 St &amp; 3 Ave</td>\n",
       "      <td>40.778012</td>\n",
       "      <td>-73.954071</td>\n",
       "      <td>3140</td>\n",
       "      <td>1 Ave &amp; E 78 St</td>\n",
       "      <td>40.771404</td>\n",
       "      <td>-73.953517</td>\n",
       "      <td>17810</td>\n",
       "      <td>Subscriber</td>\n",
       "      <td>1988.0</td>\n",
       "      <td>2</td>\n",
       "      <td>Under 45</td>\n",
       "    </tr>\n",
       "    <tr>\n",
       "      <th>2</th>\n",
       "      <td>430</td>\n",
       "      <td>2016-10-01 00:00:14</td>\n",
       "      <td>2016-10-01 00:07:25</td>\n",
       "      <td>345</td>\n",
       "      <td>W 13 St &amp; 6 Ave</td>\n",
       "      <td>40.736494</td>\n",
       "      <td>-73.997044</td>\n",
       "      <td>470</td>\n",
       "      <td>W 20 St &amp; 8 Ave</td>\n",
       "      <td>40.743453</td>\n",
       "      <td>-74.000040</td>\n",
       "      <td>20940</td>\n",
       "      <td>Subscriber</td>\n",
       "      <td>1965.0</td>\n",
       "      <td>1</td>\n",
       "      <td>Under 45</td>\n",
       "    </tr>\n",
       "    <tr>\n",
       "      <th>3</th>\n",
       "      <td>351</td>\n",
       "      <td>2016-10-01 00:00:21</td>\n",
       "      <td>2016-10-01 00:06:12</td>\n",
       "      <td>3307</td>\n",
       "      <td>West End Ave &amp; W 94 St</td>\n",
       "      <td>40.794165</td>\n",
       "      <td>-73.974124</td>\n",
       "      <td>3357</td>\n",
       "      <td>W 106 St &amp; Amsterdam Ave</td>\n",
       "      <td>40.800836</td>\n",
       "      <td>-73.966449</td>\n",
       "      <td>19086</td>\n",
       "      <td>Subscriber</td>\n",
       "      <td>1993.0</td>\n",
       "      <td>1</td>\n",
       "      <td>Under 45</td>\n",
       "    </tr>\n",
       "    <tr>\n",
       "      <th>4</th>\n",
       "      <td>2693</td>\n",
       "      <td>2016-10-01 00:00:21</td>\n",
       "      <td>2016-10-01 00:45:15</td>\n",
       "      <td>3428</td>\n",
       "      <td>8 Ave &amp; W 16 St</td>\n",
       "      <td>40.740983</td>\n",
       "      <td>-74.001702</td>\n",
       "      <td>3323</td>\n",
       "      <td>W 106 St &amp; Central Park West</td>\n",
       "      <td>40.798186</td>\n",
       "      <td>-73.960591</td>\n",
       "      <td>26502</td>\n",
       "      <td>Subscriber</td>\n",
       "      <td>1991.0</td>\n",
       "      <td>1</td>\n",
       "      <td>Under 45</td>\n",
       "    </tr>\n",
       "  </tbody>\n",
       "</table>\n",
       "</div>"
      ],
      "text/plain": [
       "   Trip Duration           Start Time            Stop Time  Start Station ID  \\\n",
       "0            328  2016-10-01 00:00:07  2016-10-01 00:05:35               471   \n",
       "1            398  2016-10-01 00:00:11  2016-10-01 00:06:49              3147   \n",
       "2            430  2016-10-01 00:00:14  2016-10-01 00:07:25               345   \n",
       "3            351  2016-10-01 00:00:21  2016-10-01 00:06:12              3307   \n",
       "4           2693  2016-10-01 00:00:21  2016-10-01 00:45:15              3428   \n",
       "\n",
       "        Start Station Name  Start Station Latitude  Start Station Longitude  \\\n",
       "0  Grand St & Havemeyer St               40.712868               -73.956981   \n",
       "1          E 85 St & 3 Ave               40.778012               -73.954071   \n",
       "2          W 13 St & 6 Ave               40.736494               -73.997044   \n",
       "3   West End Ave & W 94 St               40.794165               -73.974124   \n",
       "4          8 Ave & W 16 St               40.740983               -74.001702   \n",
       "\n",
       "   End Station ID              End Station Name  End Station Latitude  \\\n",
       "0            3077          Stagg St & Union Ave             40.708771   \n",
       "1            3140               1 Ave & E 78 St             40.771404   \n",
       "2             470               W 20 St & 8 Ave             40.743453   \n",
       "3            3357      W 106 St & Amsterdam Ave             40.800836   \n",
       "4            3323  W 106 St & Central Park West             40.798186   \n",
       "\n",
       "   End Station Longitude  Bike ID   User Type  Birth Year  Gender    Over45  \n",
       "0             -73.950953    25254  Subscriber      1992.0       1  Under 45  \n",
       "1             -73.953517    17810  Subscriber      1988.0       2  Under 45  \n",
       "2             -74.000040    20940  Subscriber      1965.0       1  Under 45  \n",
       "3             -73.966449    19086  Subscriber      1993.0       1  Under 45  \n",
       "4             -73.960591    26502  Subscriber      1991.0       1  Under 45  "
      ]
     },
     "execution_count": 4,
     "metadata": {},
     "output_type": "execute_result"
    }
   ],
   "source": [
    "# Read data and move into dataframe\n",
    "CitibikeData = pd.read_csv(os.getenv(\"PUIDATA\") + \"/\" + Datestr + \"-citibike-tripdata.csv\")\n",
    "\n",
    "# Add columns for over/under 45 minutes\n",
    "CitibikeData['Over45'] = CitibikeData['Trip Duration']> 45*60\n",
    "CitibikeData['Over45'] = CitibikeData['Over45'].astype(int)\n",
    "CitibikeData['Over45'] = CitibikeData['Over45'].replace(0,\"Under 45\")\n",
    "CitibikeData['Over45'] = CitibikeData['Over45'].replace(1,\"Over 45\")\n",
    "\n",
    "CitibikeData.head()"
   ]
  },
  {
   "cell_type": "code",
   "execution_count": 5,
   "metadata": {
    "collapsed": false,
    "scrolled": true
   },
   "outputs": [
    {
     "data": {
      "text/html": [
       "<div>\n",
       "<table border=\"1\" class=\"dataframe\">\n",
       "  <thead>\n",
       "    <tr style=\"text-align: right;\">\n",
       "      <th></th>\n",
       "      <th>User Type</th>\n",
       "      <th>Over45</th>\n",
       "    </tr>\n",
       "  </thead>\n",
       "  <tbody>\n",
       "    <tr>\n",
       "      <th>0</th>\n",
       "      <td>Subscriber</td>\n",
       "      <td>Under 45</td>\n",
       "    </tr>\n",
       "    <tr>\n",
       "      <th>1</th>\n",
       "      <td>Subscriber</td>\n",
       "      <td>Under 45</td>\n",
       "    </tr>\n",
       "    <tr>\n",
       "      <th>2</th>\n",
       "      <td>Subscriber</td>\n",
       "      <td>Under 45</td>\n",
       "    </tr>\n",
       "    <tr>\n",
       "      <th>3</th>\n",
       "      <td>Subscriber</td>\n",
       "      <td>Under 45</td>\n",
       "    </tr>\n",
       "    <tr>\n",
       "      <th>4</th>\n",
       "      <td>Subscriber</td>\n",
       "      <td>Under 45</td>\n",
       "    </tr>\n",
       "    <tr>\n",
       "      <th>5</th>\n",
       "      <td>Subscriber</td>\n",
       "      <td>Under 45</td>\n",
       "    </tr>\n",
       "    <tr>\n",
       "      <th>6</th>\n",
       "      <td>Subscriber</td>\n",
       "      <td>Under 45</td>\n",
       "    </tr>\n",
       "    <tr>\n",
       "      <th>7</th>\n",
       "      <td>Subscriber</td>\n",
       "      <td>Under 45</td>\n",
       "    </tr>\n",
       "    <tr>\n",
       "      <th>8</th>\n",
       "      <td>Subscriber</td>\n",
       "      <td>Under 45</td>\n",
       "    </tr>\n",
       "    <tr>\n",
       "      <th>9</th>\n",
       "      <td>Subscriber</td>\n",
       "      <td>Under 45</td>\n",
       "    </tr>\n",
       "  </tbody>\n",
       "</table>\n",
       "</div>"
      ],
      "text/plain": [
       "    User Type    Over45\n",
       "0  Subscriber  Under 45\n",
       "1  Subscriber  Under 45\n",
       "2  Subscriber  Under 45\n",
       "3  Subscriber  Under 45\n",
       "4  Subscriber  Under 45\n",
       "5  Subscriber  Under 45\n",
       "6  Subscriber  Under 45\n",
       "7  Subscriber  Under 45\n",
       "8  Subscriber  Under 45\n",
       "9  Subscriber  Under 45"
      ]
     },
     "execution_count": 5,
     "metadata": {},
     "output_type": "execute_result"
    }
   ],
   "source": [
    "# Drop Columns that are irrelevant\n",
    "CitibikeData.drop(['Trip Duration','Start Time', 'Stop Time', 'Start Station ID',\n",
    "                   'Start Station Name', 'Start Station Latitude',\n",
    "                   'Start Station Longitude', 'End Station ID', \n",
    "                   'End Station Name','End Station Latitude', \n",
    "                   'End Station Longitude', 'Bike ID', \n",
    "                   'Birth Year', 'Gender'], \n",
    "                  axis=1, inplace=True)\n",
    "\n",
    "CitibikeData.head(10)"
   ]
  },
  {
   "cell_type": "code",
   "execution_count": 6,
   "metadata": {
    "collapsed": false,
    "scrolled": true
   },
   "outputs": [
    {
     "name": "stderr",
     "output_type": "stream",
     "text": [
      "/opt/rh/anaconda/root/envs/PUI2016_Python2/lib/python2.7/site-packages/ipykernel/__main__.py:9: SettingWithCopyWarning: \n",
      "A value is trying to be set on a copy of a slice from a DataFrame\n",
      "\n",
      "See the caveats in the documentation: http://pandas.pydata.org/pandas-docs/stable/indexing.html#indexing-view-versus-copy\n",
      "/opt/rh/anaconda/root/envs/PUI2016_Python2/lib/python2.7/site-packages/ipykernel/__main__.py:10: SettingWithCopyWarning: \n",
      "A value is trying to be set on a copy of a slice from a DataFrame\n",
      "\n",
      "See the caveats in the documentation: http://pandas.pydata.org/pandas-docs/stable/indexing.html#indexing-view-versus-copy\n"
     ]
    },
    {
     "data": {
      "text/html": [
       "<div>\n",
       "<table border=\"1\" class=\"dataframe\">\n",
       "  <thead>\n",
       "    <tr style=\"text-align: right;\">\n",
       "      <th></th>\n",
       "      <th>User Type</th>\n",
       "      <th>Over45</th>\n",
       "      <th>Count</th>\n",
       "    </tr>\n",
       "  </thead>\n",
       "  <tbody>\n",
       "    <tr>\n",
       "      <th>0</th>\n",
       "      <td>Customer</td>\n",
       "      <td>Over 45</td>\n",
       "      <td>7.968463</td>\n",
       "    </tr>\n",
       "    <tr>\n",
       "      <th>1</th>\n",
       "      <td>Customer</td>\n",
       "      <td>Under 45</td>\n",
       "      <td>92.031537</td>\n",
       "    </tr>\n",
       "    <tr>\n",
       "      <th>2</th>\n",
       "      <td>Subscriber</td>\n",
       "      <td>Over 45</td>\n",
       "      <td>0.776854</td>\n",
       "    </tr>\n",
       "    <tr>\n",
       "      <th>3</th>\n",
       "      <td>Subscriber</td>\n",
       "      <td>Under 45</td>\n",
       "      <td>99.223146</td>\n",
       "    </tr>\n",
       "  </tbody>\n",
       "</table>\n",
       "</div>"
      ],
      "text/plain": [
       "    User Type    Over45      Count\n",
       "0    Customer   Over 45   7.968463\n",
       "1    Customer  Under 45  92.031537\n",
       "2  Subscriber   Over 45   0.776854\n",
       "3  Subscriber  Under 45  99.223146"
      ]
     },
     "execution_count": 6,
     "metadata": {},
     "output_type": "execute_result"
    }
   ],
   "source": [
    "# Determine Total Customers and Subscribers to convert data to percentages\n",
    "TotalCustomer = CitibikeData['User Type'][CitibikeData['User Type'] == 'Customer'].count()/100\n",
    "TotalSubscriber = CitibikeData['User Type'][CitibikeData['User Type'] == 'Subscriber'].count()/100\n",
    "\n",
    "# Group data into counts\n",
    "CitiBikeSumm = CitibikeData.groupby('User Type')['Over45'].value_counts().unstack(level=-1).stack(dropna=False).reset_index(name=\"Count\")\n",
    "\n",
    "# Convert to percentages\n",
    "CitiBikeSumm['Count'][CitiBikeSumm['User Type'] == 'Subscriber'] = CitiBikeSumm['Count'][CitiBikeSumm['User Type'] == 'Subscriber']/TotalSubscriber\n",
    "CitiBikeSumm['Count'][CitiBikeSumm['User Type'] == 'Customer'] = CitiBikeSumm['Count'][CitiBikeSumm['User Type'] == 'Customer']/TotalCustomer\n",
    "\n",
    "CitiBikeSumm"
   ]
  },
  {
   "cell_type": "code",
   "execution_count": 7,
   "metadata": {
    "collapsed": false
   },
   "outputs": [
    {
     "data": {
      "text/html": [
       "<div>\n",
       "<table border=\"1\" class=\"dataframe\">\n",
       "  <thead>\n",
       "    <tr style=\"text-align: right;\">\n",
       "      <th>Over45</th>\n",
       "      <th>Over 45</th>\n",
       "      <th>Under 45</th>\n",
       "    </tr>\n",
       "    <tr>\n",
       "      <th>User Type</th>\n",
       "      <th></th>\n",
       "      <th></th>\n",
       "    </tr>\n",
       "  </thead>\n",
       "  <tbody>\n",
       "    <tr>\n",
       "      <th>Customer</th>\n",
       "      <td>7.968463</td>\n",
       "      <td>92.031537</td>\n",
       "    </tr>\n",
       "    <tr>\n",
       "      <th>Subscriber</th>\n",
       "      <td>0.776854</td>\n",
       "      <td>99.223146</td>\n",
       "    </tr>\n",
       "  </tbody>\n",
       "</table>\n",
       "</div>"
      ],
      "text/plain": [
       "Over45       Over 45   Under 45\n",
       "User Type                      \n",
       "Customer    7.968463  92.031537\n",
       "Subscriber  0.776854  99.223146"
      ]
     },
     "execution_count": 7,
     "metadata": {},
     "output_type": "execute_result"
    }
   ],
   "source": [
    "finaldf = CitiBikeSumm.pivot(index='User Type', columns='Over45', \n",
    "                   values='Count')\n",
    "finaldf"
   ]
  },
  {
   "cell_type": "code",
   "execution_count": 8,
   "metadata": {
    "collapsed": false
   },
   "outputs": [
    {
     "data": {
      "text/plain": [
       "<matplotlib.figure.Figure at 0x7ff5caff61d0>"
      ]
     },
     "metadata": {},
     "output_type": "display_data"
    },
    {
     "data": {
      "image/png": "[encoded data removed]",
      "text/plain": [
       "<matplotlib.figure.Figure at 0x7ff5caff6810>"
      ]
     },
     "metadata": {},
     "output_type": "display_data"
    }
   ],
   "source": [
    "# Set up figures\n",
    "fig = pl.figure(figsize(8,8))\n",
    "\n",
    "# plot charts\n",
    "finaldf[[\"Over 45\"]].plot(kind=\"bar\", color=['Purple'])\n",
    "\n",
    "# Format Charts\n",
    "pl.title('Percentage of Customers/Subscribers who ride over 45 Minutes', \n",
    "         fontsize = 18)\n",
    "pl.xlabel('User type', fontsize = 18)\n",
    "pl.ylabel('Percentage over 45 minutes', fontsize = 18)\n",
    "pl.xticks([0,1],[\"Customer\",\"Subscriber\"], fontsize = 18,rotation='horizontal')\n",
    "pl.legend();\n"
   ]
  },
  {
   "cell_type": "markdown",
   "metadata": {},
   "source": [
    "## Figure 1: Percentage Customers and Subscribers who ride over 45 minutes \n",
    "\n",
    "### Note: The percentage of trips that subscribers travel for over 45 minutes is small in comparison to the Customers. Let's assess if this is statistically different."
   ]
  },
  {
   "cell_type": "markdown",
   "metadata": {},
   "source": [
    "### Is the percentage of Customers that travel for more than 45 minutes greater than or equal to that of the percentage of Subscribers\n",
    "## The statistics is: \n",
    "# $z = \\frac{(p_0 - p_1)}{SE} $\n",
    "# $p =\\frac{p_0  n_0 + p_1  n_1}{n_0+n_1}$\n",
    "# $SE = \\sqrt{ p  ( 1 - p )  (\\frac{1}{n_0} + \\frac{1}{n_1}) }$\n",
    "## and in this notation \n",
    "# $p_0 = \\frac{S_{\\mathrm{Over 45}}}{S_{\\mathrm{Total}}}$\n",
    "### and \n",
    "# $p_1 = \\frac{C_{\\mathrm{Over 45}}}{C_{\\mathrm{Total}}}$\n"
   ]
  },
  {
   "cell_type": "code",
   "execution_count": 9,
   "metadata": {
    "collapsed": false
   },
   "outputs": [
    {
     "data": {
      "text/plain": [
       "(0.0077685352931488446, 0.079684626521109678)"
      ]
     },
     "execution_count": 9,
     "metadata": {},
     "output_type": "execute_result"
    }
   ],
   "source": [
    "P0 = finaldf[[\"Over 45\"]].loc[\"Subscriber\"][0]/100\n",
    "P1 = finaldf[[\"Over 45\"]].loc[\"Customer\"][0]/100\n",
    "P0, P1"
   ]
  },
  {
   "cell_type": "code",
   "execution_count": 10,
   "metadata": {
    "collapsed": false
   },
   "outputs": [
    {
     "data": {
      "text/html": [
       "<div>\n",
       "<table border=\"1\" class=\"dataframe\">\n",
       "  <thead>\n",
       "    <tr style=\"text-align: right;\">\n",
       "      <th></th>\n",
       "      <th>User Type</th>\n",
       "      <th>Over45</th>\n",
       "      <th>Count</th>\n",
       "    </tr>\n",
       "  </thead>\n",
       "  <tbody>\n",
       "    <tr>\n",
       "      <th>0</th>\n",
       "      <td>Customer</td>\n",
       "      <td>Over 45</td>\n",
       "      <td>12219</td>\n",
       "    </tr>\n",
       "    <tr>\n",
       "      <th>2</th>\n",
       "      <td>Subscriber</td>\n",
       "      <td>Over 45</td>\n",
       "      <td>10896</td>\n",
       "    </tr>\n",
       "  </tbody>\n",
       "</table>\n",
       "</div>"
      ],
      "text/plain": [
       "    User Type   Over45  Count\n",
       "0    Customer  Over 45  12219\n",
       "2  Subscriber  Over 45  10896"
      ]
     },
     "execution_count": 10,
     "metadata": {},
     "output_type": "execute_result"
    }
   ],
   "source": [
    "CitiBikeCounts = CitibikeData.groupby('User Type')['Over45'].value_counts().unstack(level=-1).stack(dropna=False).reset_index(name=\"Count\")\n",
    "CitiBikeCountsOver45 = CitiBikeCounts.loc[CitiBikeCounts['Over45'] == 'Over 45']\n",
    "\n",
    "CitiBikeCountsOver45"
   ]
  },
  {
   "cell_type": "code",
   "execution_count": 11,
   "metadata": {
    "collapsed": false
   },
   "outputs": [
    {
     "data": {
      "text/plain": [
       "(10896, 12219)"
      ]
     },
     "execution_count": 11,
     "metadata": {},
     "output_type": "execute_result"
    }
   ],
   "source": [
    "n0 = int(CitiBikeCountsOver45.loc[CitiBikeCountsOver45['User Type'] == 'Subscriber'][\"Count\"])\n",
    "n1 = int(CitiBikeCountsOver45.loc[CitiBikeCountsOver45['User Type'] == 'Customer'][\"Count\"])\n",
    "n0, n1"
   ]
  },
  {
   "cell_type": "code",
   "execution_count": 12,
   "metadata": {
    "collapsed": false
   },
   "outputs": [
    {
     "name": "stdout",
     "output_type": "stream",
     "text": [
      "Difference between Subscribers who ride over 45 mins and Customers who ride over 45 mins is:  -0.071916091228\n",
      "In accordance with Null Hypothesis\n"
     ]
    }
   ],
   "source": [
    "P0mP1 = P0 - P1\n",
    "print (\"Difference between Subscribers who ride over 45 mins and Customers who ride over 45 mins is: \", P0mP1)\n",
    "if P0mP1 <= 0:\n",
    "    # we are done...\n",
    "    print(\"In accordance with Null Hypothesis\")\n",
    "else:\n",
    "    # morework to do\n",
    "    print (\"We must check the significance before we reject the Null Hypothesis\")"
   ]
  },
  {
   "cell_type": "markdown",
   "metadata": {},
   "source": [
    "### Is this difference statistically significant?"
   ]
  },
  {
   "cell_type": "code",
   "execution_count": 13,
   "metadata": {
    "collapsed": false
   },
   "outputs": [
    {
     "data": {
      "text/plain": [
       "(0.045785, 0.002754, -26.113322885969801)"
      ]
     },
     "execution_count": 13,
     "metadata": {},
     "output_type": "execute_result"
    }
   ],
   "source": [
    "Pcomb = round(float((P0 * n0 + P1 * n1) / (n0 + n1)),6)\n",
    "SEp = round(float(np.sqrt(Pcomb * (1 - Pcomb) * ( (1. / n0) + (1. / n1)))),6)\n",
    "zStat = (P0mP1 - 0) / SEp\n",
    "Pcomb, SEp, zStat"
   ]
  },
  {
   "cell_type": "code",
   "execution_count": 14,
   "metadata": {
    "collapsed": false
   },
   "outputs": [
    {
     "name": "stdout",
     "output_type": "stream",
     "text": [
      "The z statistic is -26.11 and corresponding p-value is 3.3650e-149.\n"
     ]
    }
   ],
   "source": [
    "pVal = scipy.stats.norm.pdf(zStat)\n",
    "print (\"The z statistic is {:.2f} and corresponding p-value is {:.4e}.\".format(zStat,pVal))\n",
    "\n"
   ]
  },
  {
   "cell_type": "markdown",
   "metadata": {},
   "source": [
    "#### The   p value is a lot smaller than our chosen $\\alpha=0.05$ - so yes, the result is statistically significant (by a lot!)"
   ]
  },
  {
   "cell_type": "markdown",
   "metadata": {},
   "source": [
    "# We reject the Null Hypothesis, and conclude that the proportion of Subscribers who ride for greater than 45 minutes is higher than the proportion of Customers who ride for greater than 45 minutes.   $p< 0.05$"
   ]
  },
  {
   "cell_type": "markdown",
   "metadata": {},
   "source": [
    "# Chi-squared test\n",
    "## We can perform a similar assessment to the null hypothesis above using a chi-squared test for proportions (as per feedback provided by ic1088)\n",
    "\n",
    "## Significance level alpha = 0.05\n",
    "\n",
    "** $H_0: P_0 - P_1 \\leq$    0 **\n",
    "    \n",
    "** $H_a: P_0 - P_1 $> 0    **\n",
    "\n",
    "** $\\alpha$ = 0.05    **\n",
    "\n",
    "** $P_0=0.007768, P_1=0.079684$**"
   ]
  },
  {
   "cell_type": "markdown",
   "metadata": {},
   "source": [
    "\n",
    "* Contingency table populated with ridership type and trip over and under 45 mins*\n",
    "\n",
    "|Citibike ridership     |     Over 45   | Under 45        |     Total              \n",
    "|---------------------------|-----------|-----------|----------------|\n",
    "| Customer               |   12,219  | 141,123   |        153,342       |\n",
    "| Subscriber             |     10,896  | 1,391,685     |    1,402,581           |\n",
    "|                           |           |           |                |\n",
    "| Total                     |     23,115    |   1,532,808      |        1,555,923       |"
   ]
  },
  {
   "cell_type": "code",
   "execution_count": 15,
   "metadata": {
    "collapsed": false
   },
   "outputs": [
    {
     "data": {
      "text/html": [
       "<div>\n",
       "<table border=\"1\" class=\"dataframe\">\n",
       "  <thead>\n",
       "    <tr style=\"text-align: right;\">\n",
       "      <th>Over45</th>\n",
       "      <th>Over 45</th>\n",
       "      <th>Under 45</th>\n",
       "    </tr>\n",
       "    <tr>\n",
       "      <th>User Type</th>\n",
       "      <th></th>\n",
       "      <th></th>\n",
       "    </tr>\n",
       "  </thead>\n",
       "  <tbody>\n",
       "    <tr>\n",
       "      <th>Customer</th>\n",
       "      <td>12219</td>\n",
       "      <td>141123</td>\n",
       "    </tr>\n",
       "    <tr>\n",
       "      <th>Subscriber</th>\n",
       "      <td>10896</td>\n",
       "      <td>1391685</td>\n",
       "    </tr>\n",
       "  </tbody>\n",
       "</table>\n",
       "</div>"
      ],
      "text/plain": [
       "Over45      Over 45  Under 45\n",
       "User Type                    \n",
       "Customer      12219    141123\n",
       "Subscriber    10896   1391685"
      ]
     },
     "execution_count": 15,
     "metadata": {},
     "output_type": "execute_result"
    }
   ],
   "source": [
    "CitiBikeCounts.pivot(index='User Type', columns='Over45', \n",
    "                   values='Count')"
   ]
  },
  {
   "cell_type": "code",
   "execution_count": 16,
   "metadata": {
    "collapsed": true
   },
   "outputs": [],
   "source": [
    "\n",
    "## this code provided by fbb in previousl Homework problem 4\n",
    "def evalChisq(values):\n",
    "    '''Evaluates the chi sq from a contingency value\n",
    "    Arguments:\n",
    "    values: 2x2 array or list, the contingengy table\n",
    "    '''\n",
    "    if not (len(values.shape) == 2 and values.shape == (2,2)):\n",
    "        print (\"must pass a 2D array\")\n",
    "        return -1\n",
    "    values = np.array(values)\n",
    "    E = np.empty_like(values)\n",
    "    for j in range(len(values[0])):\n",
    "        for i in range(2):\n",
    "            \n",
    "            E[i][j] = ((values[i,:].sum() * values[:,j].sum()) / \n",
    "                        (values).sum())\n",
    "    return ((values - E)**2 / E).sum()\n"
   ]
  },
  {
   "cell_type": "code",
   "execution_count": 17,
   "metadata": {
    "collapsed": false
   },
   "outputs": [
    {
     "name": "stdout",
     "output_type": "stream",
     "text": [
      "The test statistic for the Chi-squared test is: 48848.099\n"
     ]
    }
   ],
   "source": [
    "\n",
    "test_input = np.array([[P1 * 153342  , (1 - P1) * 153342], [ P0 * 1402581  , (1 - P0) * 1402581 ]])\n",
    "test_stat = evalChisq(test_input)\n",
    "\n",
    "\n",
    "print (\"The test statistic for the Chi-squared test is: \" + str(round(test_stat,3)))\n"
   ]
  },
  {
   "cell_type": "markdown",
   "metadata": {},
   "source": [
    "# We are comparing the test statistic to the Chi-squared distribution with 1 degree of freedom at the alpha = 0.05. The test statistic of 48848 is a lot larger than the table value of 3.84, therefore reject the null hypothesis, and conclude there is a significant difference between the Customers and Subscribers who ride for under and over 45 minutes."
   ]
  },
  {
   "cell_type": "code",
   "execution_count": null,
   "metadata": {
    "collapsed": true
   },
   "outputs": [],
   "source": []
  }
 ],
 "metadata": {
  "kernelspec": {
   "display_name": "PUI2016_Python2",
   "language": "python",
   "name": "pui2016_python2"
  },
  "language_info": {
   "codemirror_mode": {
    "name": "ipython",
    "version": 2
   },
   "file_extension": ".py",
   "mimetype": "text/x-python",
   "name": "python",
   "nbconvert_exporter": "python",
   "pygments_lexer": "ipython2",
   "version": "2.7.12"
  }
 },
 "nbformat": 4,
 "nbformat_minor": 0
}
