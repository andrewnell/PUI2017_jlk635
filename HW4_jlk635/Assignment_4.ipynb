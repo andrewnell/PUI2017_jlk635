{
 "cells": [
  {
   "cell_type": "markdown",
   "metadata": {},
   "source": [
    "# Assignment 4:\n",
    "\n",
    "Completed by: JKtours (jlk635)\n",
    "\n",
    "Test if the distribution of \n",
    "    \n",
    "1) trip duration of bikers that ride during the day vs night\n",
    "    \n",
    "2) age of bikers for trips originating in Manhattan and in Brooklyn\n",
    "    \n",
    "are different. Use 3 tests: KS, Pearson's, Spearman's. \n",
    "    \n",
    "Use the scipy.stats functions scipy.stats.ks_2samp, scipy.stats.pearsonr, scipy.stats.spearmanr. \n",
    "    \n",
    "For the KS do the test with the entire dataset and with a subset 200 times smaller\n",
    "    \n",
    "Choose a single significant threshold for the whole exercise. \n",
    "    \n",
    "For each test phrase the Null Hypothesis in words.\n",
    "    \n",
    "Describe the return of the scipy function you use in each case.\n",
    "    \n",
    "State the result in terms of rejection of the Null."
   ]
  },
  {
   "cell_type": "code",
   "execution_count": 1,
   "metadata": {
    "collapsed": false
   },
   "outputs": [
    {
     "name": "stdout",
     "output_type": "stream",
     "text": [
      "Populating the interactive namespace from numpy and matplotlib\n"
     ]
    }
   ],
   "source": [
    "# my usual imports and setups\n",
    "import pylab as pl\n",
    "import pandas as pd\n",
    "import numpy as np\n",
    "#imports downloader\n",
    "from getCitiBikeCSV import getCitiBikeCSV\n",
    "import scipy.stats\n",
    "from geopy.geocoders import Nominatim\n",
    "\n",
    "%pylab inline\n",
    "\n",
    "import os"
   ]
  },
  {
   "cell_type": "markdown",
   "metadata": {},
   "source": [
    "# Read in data\n",
    "\n",
    "I'm reading in data from Jan 2015 and Feb 2015 and combine the datasets (using concat which stacks the two dataframes), before the analysis (ignore Summer and Winter references)."
   ]
  },
  {
   "cell_type": "code",
   "execution_count": 2,
   "metadata": {
    "collapsed": false
   },
   "outputs": [
    {
     "name": "stdout",
     "output_type": "stream",
     "text": [
      "('Downloading', '201501')\n",
      "file in place, you can continue\n"
     ]
    }
   ],
   "source": [
    "datestringSummer = '201501'\n",
    "getCitiBikeCSV(datestringSummer)"
   ]
  },
  {
   "cell_type": "code",
   "execution_count": 3,
   "metadata": {
    "collapsed": false
   },
   "outputs": [
    {
     "data": {
      "text/html": [
       "<div>\n",
       "<table border=\"1\" class=\"dataframe\">\n",
       "  <thead>\n",
       "    <tr style=\"text-align: right;\">\n",
       "      <th></th>\n",
       "      <th>tripduration</th>\n",
       "      <th>starttime</th>\n",
       "      <th>stoptime</th>\n",
       "      <th>start station id</th>\n",
       "      <th>start station name</th>\n",
       "      <th>start station latitude</th>\n",
       "      <th>start station longitude</th>\n",
       "      <th>end station id</th>\n",
       "      <th>end station name</th>\n",
       "      <th>end station latitude</th>\n",
       "      <th>end station longitude</th>\n",
       "      <th>bikeid</th>\n",
       "      <th>usertype</th>\n",
       "      <th>birth year</th>\n",
       "      <th>gender</th>\n",
       "    </tr>\n",
       "  </thead>\n",
       "  <tbody>\n",
       "    <tr>\n",
       "      <th>0</th>\n",
       "      <td>1346</td>\n",
       "      <td>1/1/2015 0:01</td>\n",
       "      <td>1/1/2015 0:24</td>\n",
       "      <td>455</td>\n",
       "      <td>1 Ave &amp; E 44 St</td>\n",
       "      <td>40.750020</td>\n",
       "      <td>-73.969053</td>\n",
       "      <td>265</td>\n",
       "      <td>Stanton St &amp; Chrystie St</td>\n",
       "      <td>40.722293</td>\n",
       "      <td>-73.991475</td>\n",
       "      <td>18660</td>\n",
       "      <td>Subscriber</td>\n",
       "      <td>1960.0</td>\n",
       "      <td>2</td>\n",
       "    </tr>\n",
       "    <tr>\n",
       "      <th>1</th>\n",
       "      <td>363</td>\n",
       "      <td>1/1/2015 0:02</td>\n",
       "      <td>1/1/2015 0:08</td>\n",
       "      <td>434</td>\n",
       "      <td>9 Ave &amp; W 18 St</td>\n",
       "      <td>40.743174</td>\n",
       "      <td>-74.003664</td>\n",
       "      <td>482</td>\n",
       "      <td>W 15 St &amp; 7 Ave</td>\n",
       "      <td>40.739355</td>\n",
       "      <td>-73.999318</td>\n",
       "      <td>16085</td>\n",
       "      <td>Subscriber</td>\n",
       "      <td>1963.0</td>\n",
       "      <td>1</td>\n",
       "    </tr>\n",
       "    <tr>\n",
       "      <th>2</th>\n",
       "      <td>346</td>\n",
       "      <td>1/1/2015 0:04</td>\n",
       "      <td>1/1/2015 0:10</td>\n",
       "      <td>491</td>\n",
       "      <td>E 24 St &amp; Park Ave S</td>\n",
       "      <td>40.740964</td>\n",
       "      <td>-73.986022</td>\n",
       "      <td>505</td>\n",
       "      <td>6 Ave &amp; W 33 St</td>\n",
       "      <td>40.749013</td>\n",
       "      <td>-73.988484</td>\n",
       "      <td>20845</td>\n",
       "      <td>Subscriber</td>\n",
       "      <td>1974.0</td>\n",
       "      <td>1</td>\n",
       "    </tr>\n",
       "    <tr>\n",
       "      <th>3</th>\n",
       "      <td>182</td>\n",
       "      <td>1/1/2015 0:04</td>\n",
       "      <td>1/1/2015 0:07</td>\n",
       "      <td>384</td>\n",
       "      <td>Fulton St &amp; Waverly Ave</td>\n",
       "      <td>40.683178</td>\n",
       "      <td>-73.965964</td>\n",
       "      <td>399</td>\n",
       "      <td>Lafayette Ave &amp; St James Pl</td>\n",
       "      <td>40.688515</td>\n",
       "      <td>-73.964763</td>\n",
       "      <td>19610</td>\n",
       "      <td>Subscriber</td>\n",
       "      <td>1969.0</td>\n",
       "      <td>1</td>\n",
       "    </tr>\n",
       "    <tr>\n",
       "      <th>4</th>\n",
       "      <td>969</td>\n",
       "      <td>1/1/2015 0:05</td>\n",
       "      <td>1/1/2015 0:21</td>\n",
       "      <td>474</td>\n",
       "      <td>5 Ave &amp; E 29 St</td>\n",
       "      <td>40.745168</td>\n",
       "      <td>-73.986831</td>\n",
       "      <td>432</td>\n",
       "      <td>E 7 St &amp; Avenue A</td>\n",
       "      <td>40.726218</td>\n",
       "      <td>-73.983799</td>\n",
       "      <td>20197</td>\n",
       "      <td>Subscriber</td>\n",
       "      <td>1977.0</td>\n",
       "      <td>1</td>\n",
       "    </tr>\n",
       "  </tbody>\n",
       "</table>\n",
       "</div>"
      ],
      "text/plain": [
       "   tripduration      starttime       stoptime  start station id  \\\n",
       "0          1346  1/1/2015 0:01  1/1/2015 0:24               455   \n",
       "1           363  1/1/2015 0:02  1/1/2015 0:08               434   \n",
       "2           346  1/1/2015 0:04  1/1/2015 0:10               491   \n",
       "3           182  1/1/2015 0:04  1/1/2015 0:07               384   \n",
       "4           969  1/1/2015 0:05  1/1/2015 0:21               474   \n",
       "\n",
       "        start station name  start station latitude  start station longitude  \\\n",
       "0          1 Ave & E 44 St               40.750020               -73.969053   \n",
       "1          9 Ave & W 18 St               40.743174               -74.003664   \n",
       "2     E 24 St & Park Ave S               40.740964               -73.986022   \n",
       "3  Fulton St & Waverly Ave               40.683178               -73.965964   \n",
       "4          5 Ave & E 29 St               40.745168               -73.986831   \n",
       "\n",
       "   end station id             end station name  end station latitude  \\\n",
       "0             265     Stanton St & Chrystie St             40.722293   \n",
       "1             482              W 15 St & 7 Ave             40.739355   \n",
       "2             505              6 Ave & W 33 St             40.749013   \n",
       "3             399  Lafayette Ave & St James Pl             40.688515   \n",
       "4             432            E 7 St & Avenue A             40.726218   \n",
       "\n",
       "   end station longitude  bikeid    usertype  birth year  gender  \n",
       "0             -73.991475   18660  Subscriber      1960.0       2  \n",
       "1             -73.999318   16085  Subscriber      1963.0       1  \n",
       "2             -73.988484   20845  Subscriber      1974.0       1  \n",
       "3             -73.964763   19610  Subscriber      1969.0       1  \n",
       "4             -73.983799   20197  Subscriber      1977.0       1  "
      ]
     },
     "execution_count": 3,
     "metadata": {},
     "output_type": "execute_result"
    }
   ],
   "source": [
    "dfSummer = pd.read_csv(os.getenv(\"PUIDATA\") + \"/\" + datestringSummer + '-citibike-tripdata.csv')\n",
    "dfSummer.head()"
   ]
  },
  {
   "cell_type": "code",
   "execution_count": 4,
   "metadata": {
    "collapsed": false
   },
   "outputs": [
    {
     "data": {
      "text/plain": [
       "(285552, 15)"
      ]
     },
     "execution_count": 4,
     "metadata": {},
     "output_type": "execute_result"
    }
   ],
   "source": [
    "dfSummer.shape"
   ]
  },
  {
   "cell_type": "code",
   "execution_count": 5,
   "metadata": {
    "collapsed": false
   },
   "outputs": [
    {
     "name": "stdout",
     "output_type": "stream",
     "text": [
      "('Downloading', '201502')\n",
      "file in place, you can continue\n"
     ]
    }
   ],
   "source": [
    "datestringWinter = '201502'\n",
    "getCitiBikeCSV(datestringWinter)"
   ]
  },
  {
   "cell_type": "code",
   "execution_count": 6,
   "metadata": {
    "collapsed": false
   },
   "outputs": [
    {
     "data": {
      "text/html": [
       "<div>\n",
       "<table border=\"1\" class=\"dataframe\">\n",
       "  <thead>\n",
       "    <tr style=\"text-align: right;\">\n",
       "      <th></th>\n",
       "      <th>tripduration</th>\n",
       "      <th>starttime</th>\n",
       "      <th>stoptime</th>\n",
       "      <th>start station id</th>\n",
       "      <th>start station name</th>\n",
       "      <th>start station latitude</th>\n",
       "      <th>start station longitude</th>\n",
       "      <th>end station id</th>\n",
       "      <th>end station name</th>\n",
       "      <th>end station latitude</th>\n",
       "      <th>end station longitude</th>\n",
       "      <th>bikeid</th>\n",
       "      <th>usertype</th>\n",
       "      <th>birth year</th>\n",
       "      <th>gender</th>\n",
       "    </tr>\n",
       "  </thead>\n",
       "  <tbody>\n",
       "    <tr>\n",
       "      <th>0</th>\n",
       "      <td>801</td>\n",
       "      <td>2/1/2015 0:00</td>\n",
       "      <td>2/1/2015 0:14</td>\n",
       "      <td>521</td>\n",
       "      <td>8 Ave &amp; W 31 St</td>\n",
       "      <td>40.750450</td>\n",
       "      <td>-73.994811</td>\n",
       "      <td>423</td>\n",
       "      <td>W 54 St &amp; 9 Ave</td>\n",
       "      <td>40.765849</td>\n",
       "      <td>-73.986905</td>\n",
       "      <td>17131</td>\n",
       "      <td>Subscriber</td>\n",
       "      <td>1978.0</td>\n",
       "      <td>2</td>\n",
       "    </tr>\n",
       "    <tr>\n",
       "      <th>1</th>\n",
       "      <td>379</td>\n",
       "      <td>2/1/2015 0:00</td>\n",
       "      <td>2/1/2015 0:07</td>\n",
       "      <td>497</td>\n",
       "      <td>E 17 St &amp; Broadway</td>\n",
       "      <td>40.737050</td>\n",
       "      <td>-73.990093</td>\n",
       "      <td>504</td>\n",
       "      <td>1 Ave &amp; E 15 St</td>\n",
       "      <td>40.732219</td>\n",
       "      <td>-73.981656</td>\n",
       "      <td>21289</td>\n",
       "      <td>Subscriber</td>\n",
       "      <td>1993.0</td>\n",
       "      <td>1</td>\n",
       "    </tr>\n",
       "    <tr>\n",
       "      <th>2</th>\n",
       "      <td>2474</td>\n",
       "      <td>2/1/2015 0:01</td>\n",
       "      <td>2/1/2015 0:42</td>\n",
       "      <td>281</td>\n",
       "      <td>Grand Army Plaza &amp; Central Park S</td>\n",
       "      <td>40.764397</td>\n",
       "      <td>-73.973715</td>\n",
       "      <td>127</td>\n",
       "      <td>Barrow St &amp; Hudson St</td>\n",
       "      <td>40.731724</td>\n",
       "      <td>-74.006744</td>\n",
       "      <td>18903</td>\n",
       "      <td>Subscriber</td>\n",
       "      <td>1969.0</td>\n",
       "      <td>2</td>\n",
       "    </tr>\n",
       "    <tr>\n",
       "      <th>3</th>\n",
       "      <td>818</td>\n",
       "      <td>2/1/2015 0:01</td>\n",
       "      <td>2/1/2015 0:15</td>\n",
       "      <td>2004</td>\n",
       "      <td>6 Ave &amp; Broome St</td>\n",
       "      <td>40.724399</td>\n",
       "      <td>-74.004704</td>\n",
       "      <td>505</td>\n",
       "      <td>6 Ave &amp; W 33 St</td>\n",
       "      <td>40.749013</td>\n",
       "      <td>-73.988484</td>\n",
       "      <td>21044</td>\n",
       "      <td>Subscriber</td>\n",
       "      <td>1985.0</td>\n",
       "      <td>2</td>\n",
       "    </tr>\n",
       "    <tr>\n",
       "      <th>4</th>\n",
       "      <td>544</td>\n",
       "      <td>2/1/2015 0:01</td>\n",
       "      <td>2/1/2015 0:10</td>\n",
       "      <td>323</td>\n",
       "      <td>Lawrence St &amp; Willoughby St</td>\n",
       "      <td>40.692362</td>\n",
       "      <td>-73.986317</td>\n",
       "      <td>83</td>\n",
       "      <td>Atlantic Ave &amp; Fort Greene Pl</td>\n",
       "      <td>40.683826</td>\n",
       "      <td>-73.976323</td>\n",
       "      <td>19868</td>\n",
       "      <td>Subscriber</td>\n",
       "      <td>1957.0</td>\n",
       "      <td>1</td>\n",
       "    </tr>\n",
       "  </tbody>\n",
       "</table>\n",
       "</div>"
      ],
      "text/plain": [
       "   tripduration      starttime       stoptime  start station id  \\\n",
       "0           801  2/1/2015 0:00  2/1/2015 0:14               521   \n",
       "1           379  2/1/2015 0:00  2/1/2015 0:07               497   \n",
       "2          2474  2/1/2015 0:01  2/1/2015 0:42               281   \n",
       "3           818  2/1/2015 0:01  2/1/2015 0:15              2004   \n",
       "4           544  2/1/2015 0:01  2/1/2015 0:10               323   \n",
       "\n",
       "                  start station name  start station latitude  \\\n",
       "0                    8 Ave & W 31 St               40.750450   \n",
       "1                 E 17 St & Broadway               40.737050   \n",
       "2  Grand Army Plaza & Central Park S               40.764397   \n",
       "3                  6 Ave & Broome St               40.724399   \n",
       "4        Lawrence St & Willoughby St               40.692362   \n",
       "\n",
       "   start station longitude  end station id               end station name  \\\n",
       "0               -73.994811             423                W 54 St & 9 Ave   \n",
       "1               -73.990093             504                1 Ave & E 15 St   \n",
       "2               -73.973715             127          Barrow St & Hudson St   \n",
       "3               -74.004704             505                6 Ave & W 33 St   \n",
       "4               -73.986317              83  Atlantic Ave & Fort Greene Pl   \n",
       "\n",
       "   end station latitude  end station longitude  bikeid    usertype  \\\n",
       "0             40.765849             -73.986905   17131  Subscriber   \n",
       "1             40.732219             -73.981656   21289  Subscriber   \n",
       "2             40.731724             -74.006744   18903  Subscriber   \n",
       "3             40.749013             -73.988484   21044  Subscriber   \n",
       "4             40.683826             -73.976323   19868  Subscriber   \n",
       "\n",
       "   birth year  gender  \n",
       "0      1978.0       2  \n",
       "1      1993.0       1  \n",
       "2      1969.0       2  \n",
       "3      1985.0       2  \n",
       "4      1957.0       1  "
      ]
     },
     "execution_count": 6,
     "metadata": {},
     "output_type": "execute_result"
    }
   ],
   "source": [
    "dfWinter = pd.read_csv(os.getenv(\"PUIDATA\") + \"/\" + datestringWinter + '-citibike-tripdata.csv')\n",
    "dfWinter.head()\n"
   ]
  },
  {
   "cell_type": "code",
   "execution_count": 7,
   "metadata": {
    "collapsed": false
   },
   "outputs": [
    {
     "data": {
      "text/plain": [
       "(196930, 15)"
      ]
     },
     "execution_count": 7,
     "metadata": {},
     "output_type": "execute_result"
    }
   ],
   "source": [
    "dfWinter.shape"
   ]
  },
  {
   "cell_type": "code",
   "execution_count": 8,
   "metadata": {
    "collapsed": false
   },
   "outputs": [
    {
     "data": {
      "text/html": [
       "<div>\n",
       "<table border=\"1\" class=\"dataframe\">\n",
       "  <thead>\n",
       "    <tr style=\"text-align: right;\">\n",
       "      <th></th>\n",
       "      <th>tripduration</th>\n",
       "      <th>starttime</th>\n",
       "      <th>stoptime</th>\n",
       "      <th>start station id</th>\n",
       "      <th>start station name</th>\n",
       "      <th>start station latitude</th>\n",
       "      <th>start station longitude</th>\n",
       "      <th>end station id</th>\n",
       "      <th>end station name</th>\n",
       "      <th>end station latitude</th>\n",
       "      <th>end station longitude</th>\n",
       "      <th>bikeid</th>\n",
       "      <th>usertype</th>\n",
       "      <th>birth year</th>\n",
       "      <th>gender</th>\n",
       "    </tr>\n",
       "  </thead>\n",
       "  <tbody>\n",
       "    <tr>\n",
       "      <th>0</th>\n",
       "      <td>1346</td>\n",
       "      <td>1/1/2015 0:01</td>\n",
       "      <td>1/1/2015 0:24</td>\n",
       "      <td>455</td>\n",
       "      <td>1 Ave &amp; E 44 St</td>\n",
       "      <td>40.750020</td>\n",
       "      <td>-73.969053</td>\n",
       "      <td>265</td>\n",
       "      <td>Stanton St &amp; Chrystie St</td>\n",
       "      <td>40.722293</td>\n",
       "      <td>-73.991475</td>\n",
       "      <td>18660</td>\n",
       "      <td>Subscriber</td>\n",
       "      <td>1960.0</td>\n",
       "      <td>2</td>\n",
       "    </tr>\n",
       "    <tr>\n",
       "      <th>1</th>\n",
       "      <td>363</td>\n",
       "      <td>1/1/2015 0:02</td>\n",
       "      <td>1/1/2015 0:08</td>\n",
       "      <td>434</td>\n",
       "      <td>9 Ave &amp; W 18 St</td>\n",
       "      <td>40.743174</td>\n",
       "      <td>-74.003664</td>\n",
       "      <td>482</td>\n",
       "      <td>W 15 St &amp; 7 Ave</td>\n",
       "      <td>40.739355</td>\n",
       "      <td>-73.999318</td>\n",
       "      <td>16085</td>\n",
       "      <td>Subscriber</td>\n",
       "      <td>1963.0</td>\n",
       "      <td>1</td>\n",
       "    </tr>\n",
       "    <tr>\n",
       "      <th>2</th>\n",
       "      <td>346</td>\n",
       "      <td>1/1/2015 0:04</td>\n",
       "      <td>1/1/2015 0:10</td>\n",
       "      <td>491</td>\n",
       "      <td>E 24 St &amp; Park Ave S</td>\n",
       "      <td>40.740964</td>\n",
       "      <td>-73.986022</td>\n",
       "      <td>505</td>\n",
       "      <td>6 Ave &amp; W 33 St</td>\n",
       "      <td>40.749013</td>\n",
       "      <td>-73.988484</td>\n",
       "      <td>20845</td>\n",
       "      <td>Subscriber</td>\n",
       "      <td>1974.0</td>\n",
       "      <td>1</td>\n",
       "    </tr>\n",
       "    <tr>\n",
       "      <th>3</th>\n",
       "      <td>182</td>\n",
       "      <td>1/1/2015 0:04</td>\n",
       "      <td>1/1/2015 0:07</td>\n",
       "      <td>384</td>\n",
       "      <td>Fulton St &amp; Waverly Ave</td>\n",
       "      <td>40.683178</td>\n",
       "      <td>-73.965964</td>\n",
       "      <td>399</td>\n",
       "      <td>Lafayette Ave &amp; St James Pl</td>\n",
       "      <td>40.688515</td>\n",
       "      <td>-73.964763</td>\n",
       "      <td>19610</td>\n",
       "      <td>Subscriber</td>\n",
       "      <td>1969.0</td>\n",
       "      <td>1</td>\n",
       "    </tr>\n",
       "    <tr>\n",
       "      <th>4</th>\n",
       "      <td>969</td>\n",
       "      <td>1/1/2015 0:05</td>\n",
       "      <td>1/1/2015 0:21</td>\n",
       "      <td>474</td>\n",
       "      <td>5 Ave &amp; E 29 St</td>\n",
       "      <td>40.745168</td>\n",
       "      <td>-73.986831</td>\n",
       "      <td>432</td>\n",
       "      <td>E 7 St &amp; Avenue A</td>\n",
       "      <td>40.726218</td>\n",
       "      <td>-73.983799</td>\n",
       "      <td>20197</td>\n",
       "      <td>Subscriber</td>\n",
       "      <td>1977.0</td>\n",
       "      <td>1</td>\n",
       "    </tr>\n",
       "  </tbody>\n",
       "</table>\n",
       "</div>"
      ],
      "text/plain": [
       "   tripduration      starttime       stoptime  start station id  \\\n",
       "0          1346  1/1/2015 0:01  1/1/2015 0:24               455   \n",
       "1           363  1/1/2015 0:02  1/1/2015 0:08               434   \n",
       "2           346  1/1/2015 0:04  1/1/2015 0:10               491   \n",
       "3           182  1/1/2015 0:04  1/1/2015 0:07               384   \n",
       "4           969  1/1/2015 0:05  1/1/2015 0:21               474   \n",
       "\n",
       "        start station name  start station latitude  start station longitude  \\\n",
       "0          1 Ave & E 44 St               40.750020               -73.969053   \n",
       "1          9 Ave & W 18 St               40.743174               -74.003664   \n",
       "2     E 24 St & Park Ave S               40.740964               -73.986022   \n",
       "3  Fulton St & Waverly Ave               40.683178               -73.965964   \n",
       "4          5 Ave & E 29 St               40.745168               -73.986831   \n",
       "\n",
       "   end station id             end station name  end station latitude  \\\n",
       "0             265     Stanton St & Chrystie St             40.722293   \n",
       "1             482              W 15 St & 7 Ave             40.739355   \n",
       "2             505              6 Ave & W 33 St             40.749013   \n",
       "3             399  Lafayette Ave & St James Pl             40.688515   \n",
       "4             432            E 7 St & Avenue A             40.726218   \n",
       "\n",
       "   end station longitude  bikeid    usertype  birth year  gender  \n",
       "0             -73.991475   18660  Subscriber      1960.0       2  \n",
       "1             -73.999318   16085  Subscriber      1963.0       1  \n",
       "2             -73.988484   20845  Subscriber      1974.0       1  \n",
       "3             -73.964763   19610  Subscriber      1969.0       1  \n",
       "4             -73.983799   20197  Subscriber      1977.0       1  "
      ]
     },
     "execution_count": 8,
     "metadata": {},
     "output_type": "execute_result"
    }
   ],
   "source": [
    "stack = [dfSummer, dfWinter]\n",
    "\n",
    "dfBikes = pd.concat(stack, ignore_index=True)\n",
    "dfBikes.head()"
   ]
  },
  {
   "cell_type": "code",
   "execution_count": null,
   "metadata": {
    "collapsed": false
   },
   "outputs": [],
   "source": []
  },
  {
   "cell_type": "code",
   "execution_count": 9,
   "metadata": {
    "collapsed": false
   },
   "outputs": [
    {
     "name": "stdout",
     "output_type": "stream",
     "text": [
      "CHECK: Size of combined dataset is (482482, 15); and sum of rows in Summer and Winter dataset is: 482482\n"
     ]
    }
   ],
   "source": [
    "# Review and check files have the same number of records\n",
    "\n",
    "print(\"CHECK: Size of combined dataset is {}; and sum of rows in Summer and Winter dataset is: {}\").format(dfBikes.shape,  dfSummer.shape[0] + dfWinter.shape[0])   "
   ]
  },
  {
   "cell_type": "markdown",
   "metadata": {},
   "source": [
    "# Trip duration analysis\n",
    "\n",
    "We are interested in whether the trip duration of riders varies depending on if they ride during the day or in the evening:\n",
    "\n",
    "**H0: there is no statistical difference in the duration of trips for riders during the day, compared with the night (day is defined as startime between 7am and 7pm (otherwise night))**\n",
    "$$ \\alpha = 0.05 $$\n",
    "\n",
    "Create a new variables for Day Duration (between 7am and 7pm) and Night Duration (7pm to 7am)\n",
    "\n",
    "\n"
   ]
  },
  {
   "cell_type": "code",
   "execution_count": 10,
   "metadata": {
    "collapsed": false
   },
   "outputs": [],
   "source": [
    "### NOTE: I'm creating a subset of the data (20,000 records) here to make easier to manage from computational standpoint. \n",
    "### If I had more time, I would delete this row and re-run on the whole sample (it's half a million records)\n",
    "dfBikes = dfBikes.sample(20000, replace=False)"
   ]
  },
  {
   "cell_type": "code",
   "execution_count": 11,
   "metadata": {
    "collapsed": false
   },
   "outputs": [
    {
     "data": {
      "text/plain": [
       "(20000, 15)"
      ]
     },
     "execution_count": 11,
     "metadata": {},
     "output_type": "execute_result"
    }
   ],
   "source": [
    "### FOR REMOVAL\n",
    "\n",
    "dfBikes.shape"
   ]
  },
  {
   "cell_type": "code",
   "execution_count": 12,
   "metadata": {
    "collapsed": false
   },
   "outputs": [
    {
     "data": {
      "text/html": [
       "<div>\n",
       "<table border=\"1\" class=\"dataframe\">\n",
       "  <thead>\n",
       "    <tr style=\"text-align: right;\">\n",
       "      <th></th>\n",
       "      <th>tripduration</th>\n",
       "      <th>starttime</th>\n",
       "      <th>stoptime</th>\n",
       "      <th>start station id</th>\n",
       "      <th>start station name</th>\n",
       "      <th>start station latitude</th>\n",
       "      <th>start station longitude</th>\n",
       "      <th>end station id</th>\n",
       "      <th>end station name</th>\n",
       "      <th>end station latitude</th>\n",
       "      <th>end station longitude</th>\n",
       "      <th>bikeid</th>\n",
       "      <th>usertype</th>\n",
       "      <th>birth year</th>\n",
       "      <th>gender</th>\n",
       "    </tr>\n",
       "  </thead>\n",
       "  <tbody>\n",
       "    <tr>\n",
       "      <th>278221</th>\n",
       "      <td>892</td>\n",
       "      <td>1/30/2015 17:52</td>\n",
       "      <td>1/30/2015 18:07</td>\n",
       "      <td>488</td>\n",
       "      <td>W 39 St &amp; 9 Ave</td>\n",
       "      <td>40.756458</td>\n",
       "      <td>-73.993722</td>\n",
       "      <td>402</td>\n",
       "      <td>Broadway &amp; E 22 St</td>\n",
       "      <td>40.740343</td>\n",
       "      <td>-73.989551</td>\n",
       "      <td>21007</td>\n",
       "      <td>Subscriber</td>\n",
       "      <td>1975.0</td>\n",
       "      <td>1</td>\n",
       "    </tr>\n",
       "    <tr>\n",
       "      <th>166642</th>\n",
       "      <td>354</td>\n",
       "      <td>1/19/2015 11:30</td>\n",
       "      <td>1/19/2015 11:36</td>\n",
       "      <td>310</td>\n",
       "      <td>State St &amp; Smith St</td>\n",
       "      <td>40.689269</td>\n",
       "      <td>-73.989129</td>\n",
       "      <td>298</td>\n",
       "      <td>3 Ave &amp; Schermerhorn St</td>\n",
       "      <td>40.686832</td>\n",
       "      <td>-73.979677</td>\n",
       "      <td>19632</td>\n",
       "      <td>Subscriber</td>\n",
       "      <td>1984.0</td>\n",
       "      <td>1</td>\n",
       "    </tr>\n",
       "    <tr>\n",
       "      <th>159312</th>\n",
       "      <td>380</td>\n",
       "      <td>1/17/2015 16:01</td>\n",
       "      <td>1/17/2015 16:07</td>\n",
       "      <td>483</td>\n",
       "      <td>E 12 St &amp; 3 Ave</td>\n",
       "      <td>40.732233</td>\n",
       "      <td>-73.988900</td>\n",
       "      <td>317</td>\n",
       "      <td>E 6 St &amp; Avenue B</td>\n",
       "      <td>40.724537</td>\n",
       "      <td>-73.981854</td>\n",
       "      <td>16611</td>\n",
       "      <td>Subscriber</td>\n",
       "      <td>1983.0</td>\n",
       "      <td>2</td>\n",
       "    </tr>\n",
       "    <tr>\n",
       "      <th>221660</th>\n",
       "      <td>765</td>\n",
       "      <td>1/22/2015 23:19</td>\n",
       "      <td>1/22/2015 23:32</td>\n",
       "      <td>509</td>\n",
       "      <td>9 Ave &amp; W 22 St</td>\n",
       "      <td>40.745497</td>\n",
       "      <td>-74.001971</td>\n",
       "      <td>174</td>\n",
       "      <td>E 25 St &amp; 1 Ave</td>\n",
       "      <td>40.738177</td>\n",
       "      <td>-73.977387</td>\n",
       "      <td>18350</td>\n",
       "      <td>Subscriber</td>\n",
       "      <td>1989.0</td>\n",
       "      <td>1</td>\n",
       "    </tr>\n",
       "    <tr>\n",
       "      <th>176258</th>\n",
       "      <td>527</td>\n",
       "      <td>1/20/2015 7:49</td>\n",
       "      <td>1/20/2015 7:58</td>\n",
       "      <td>537</td>\n",
       "      <td>Lexington Ave &amp; E 24 St</td>\n",
       "      <td>40.740259</td>\n",
       "      <td>-73.984092</td>\n",
       "      <td>442</td>\n",
       "      <td>W 27 St &amp; 7 Ave</td>\n",
       "      <td>40.746647</td>\n",
       "      <td>-73.993915</td>\n",
       "      <td>18651</td>\n",
       "      <td>Subscriber</td>\n",
       "      <td>1963.0</td>\n",
       "      <td>1</td>\n",
       "    </tr>\n",
       "  </tbody>\n",
       "</table>\n",
       "</div>"
      ],
      "text/plain": [
       "        tripduration        starttime         stoptime  start station id  \\\n",
       "278221           892  1/30/2015 17:52  1/30/2015 18:07               488   \n",
       "166642           354  1/19/2015 11:30  1/19/2015 11:36               310   \n",
       "159312           380  1/17/2015 16:01  1/17/2015 16:07               483   \n",
       "221660           765  1/22/2015 23:19  1/22/2015 23:32               509   \n",
       "176258           527   1/20/2015 7:49   1/20/2015 7:58               537   \n",
       "\n",
       "             start station name  start station latitude  \\\n",
       "278221          W 39 St & 9 Ave               40.756458   \n",
       "166642      State St & Smith St               40.689269   \n",
       "159312          E 12 St & 3 Ave               40.732233   \n",
       "221660          9 Ave & W 22 St               40.745497   \n",
       "176258  Lexington Ave & E 24 St               40.740259   \n",
       "\n",
       "        start station longitude  end station id         end station name  \\\n",
       "278221               -73.993722             402       Broadway & E 22 St   \n",
       "166642               -73.989129             298  3 Ave & Schermerhorn St   \n",
       "159312               -73.988900             317        E 6 St & Avenue B   \n",
       "221660               -74.001971             174          E 25 St & 1 Ave   \n",
       "176258               -73.984092             442          W 27 St & 7 Ave   \n",
       "\n",
       "        end station latitude  end station longitude  bikeid    usertype  \\\n",
       "278221             40.740343             -73.989551   21007  Subscriber   \n",
       "166642             40.686832             -73.979677   19632  Subscriber   \n",
       "159312             40.724537             -73.981854   16611  Subscriber   \n",
       "221660             40.738177             -73.977387   18350  Subscriber   \n",
       "176258             40.746647             -73.993915   18651  Subscriber   \n",
       "\n",
       "        birth year  gender  \n",
       "278221      1975.0       1  \n",
       "166642      1984.0       1  \n",
       "159312      1983.0       2  \n",
       "221660      1989.0       1  \n",
       "176258      1963.0       1  "
      ]
     },
     "execution_count": 12,
     "metadata": {},
     "output_type": "execute_result"
    }
   ],
   "source": [
    "### FOR REMOVAL\n",
    "\n",
    "dfBikes.head()"
   ]
  },
  {
   "cell_type": "code",
   "execution_count": 13,
   "metadata": {
    "collapsed": true
   },
   "outputs": [],
   "source": [
    "dfBikes['date'] = pd.to_datetime(dfBikes['starttime'])"
   ]
  },
  {
   "cell_type": "code",
   "execution_count": 14,
   "metadata": {
    "collapsed": false
   },
   "outputs": [],
   "source": [
    "#Create new variables for Day Duration and Night Duration 4.02\n",
    "\n",
    "dfBikes['DayDur'] = dfBikes['tripduration'][(dfBikes['date'].dt.hour >= 7) & (dfBikes['date'].dt.hour < 19)]\n",
    "dfBikes['NightDur'] = dfBikes['tripduration'][(dfBikes['date'].dt.hour < 7) | (dfBikes['date'].dt.hour >= 19)]"
   ]
  },
  {
   "cell_type": "code",
   "execution_count": 15,
   "metadata": {
    "collapsed": false
   },
   "outputs": [
    {
     "data": {
      "text/html": [
       "<div>\n",
       "<table border=\"1\" class=\"dataframe\">\n",
       "  <thead>\n",
       "    <tr style=\"text-align: right;\">\n",
       "      <th></th>\n",
       "      <th>tripduration</th>\n",
       "      <th>starttime</th>\n",
       "      <th>stoptime</th>\n",
       "      <th>start station id</th>\n",
       "      <th>start station name</th>\n",
       "      <th>start station latitude</th>\n",
       "      <th>start station longitude</th>\n",
       "      <th>end station id</th>\n",
       "      <th>end station name</th>\n",
       "      <th>end station latitude</th>\n",
       "      <th>end station longitude</th>\n",
       "      <th>bikeid</th>\n",
       "      <th>usertype</th>\n",
       "      <th>birth year</th>\n",
       "      <th>gender</th>\n",
       "      <th>date</th>\n",
       "      <th>DayDur</th>\n",
       "      <th>NightDur</th>\n",
       "    </tr>\n",
       "  </thead>\n",
       "  <tbody>\n",
       "    <tr>\n",
       "      <th>278221</th>\n",
       "      <td>892</td>\n",
       "      <td>1/30/2015 17:52</td>\n",
       "      <td>1/30/2015 18:07</td>\n",
       "      <td>488</td>\n",
       "      <td>W 39 St &amp; 9 Ave</td>\n",
       "      <td>40.756458</td>\n",
       "      <td>-73.993722</td>\n",
       "      <td>402</td>\n",
       "      <td>Broadway &amp; E 22 St</td>\n",
       "      <td>40.740343</td>\n",
       "      <td>-73.989551</td>\n",
       "      <td>21007</td>\n",
       "      <td>Subscriber</td>\n",
       "      <td>1975.0</td>\n",
       "      <td>1</td>\n",
       "      <td>2015-01-30 17:52:00</td>\n",
       "      <td>892.0</td>\n",
       "      <td>NaN</td>\n",
       "    </tr>\n",
       "    <tr>\n",
       "      <th>166642</th>\n",
       "      <td>354</td>\n",
       "      <td>1/19/2015 11:30</td>\n",
       "      <td>1/19/2015 11:36</td>\n",
       "      <td>310</td>\n",
       "      <td>State St &amp; Smith St</td>\n",
       "      <td>40.689269</td>\n",
       "      <td>-73.989129</td>\n",
       "      <td>298</td>\n",
       "      <td>3 Ave &amp; Schermerhorn St</td>\n",
       "      <td>40.686832</td>\n",
       "      <td>-73.979677</td>\n",
       "      <td>19632</td>\n",
       "      <td>Subscriber</td>\n",
       "      <td>1984.0</td>\n",
       "      <td>1</td>\n",
       "      <td>2015-01-19 11:30:00</td>\n",
       "      <td>354.0</td>\n",
       "      <td>NaN</td>\n",
       "    </tr>\n",
       "    <tr>\n",
       "      <th>159312</th>\n",
       "      <td>380</td>\n",
       "      <td>1/17/2015 16:01</td>\n",
       "      <td>1/17/2015 16:07</td>\n",
       "      <td>483</td>\n",
       "      <td>E 12 St &amp; 3 Ave</td>\n",
       "      <td>40.732233</td>\n",
       "      <td>-73.988900</td>\n",
       "      <td>317</td>\n",
       "      <td>E 6 St &amp; Avenue B</td>\n",
       "      <td>40.724537</td>\n",
       "      <td>-73.981854</td>\n",
       "      <td>16611</td>\n",
       "      <td>Subscriber</td>\n",
       "      <td>1983.0</td>\n",
       "      <td>2</td>\n",
       "      <td>2015-01-17 16:01:00</td>\n",
       "      <td>380.0</td>\n",
       "      <td>NaN</td>\n",
       "    </tr>\n",
       "    <tr>\n",
       "      <th>221660</th>\n",
       "      <td>765</td>\n",
       "      <td>1/22/2015 23:19</td>\n",
       "      <td>1/22/2015 23:32</td>\n",
       "      <td>509</td>\n",
       "      <td>9 Ave &amp; W 22 St</td>\n",
       "      <td>40.745497</td>\n",
       "      <td>-74.001971</td>\n",
       "      <td>174</td>\n",
       "      <td>E 25 St &amp; 1 Ave</td>\n",
       "      <td>40.738177</td>\n",
       "      <td>-73.977387</td>\n",
       "      <td>18350</td>\n",
       "      <td>Subscriber</td>\n",
       "      <td>1989.0</td>\n",
       "      <td>1</td>\n",
       "      <td>2015-01-22 23:19:00</td>\n",
       "      <td>NaN</td>\n",
       "      <td>765.0</td>\n",
       "    </tr>\n",
       "    <tr>\n",
       "      <th>176258</th>\n",
       "      <td>527</td>\n",
       "      <td>1/20/2015 7:49</td>\n",
       "      <td>1/20/2015 7:58</td>\n",
       "      <td>537</td>\n",
       "      <td>Lexington Ave &amp; E 24 St</td>\n",
       "      <td>40.740259</td>\n",
       "      <td>-73.984092</td>\n",
       "      <td>442</td>\n",
       "      <td>W 27 St &amp; 7 Ave</td>\n",
       "      <td>40.746647</td>\n",
       "      <td>-73.993915</td>\n",
       "      <td>18651</td>\n",
       "      <td>Subscriber</td>\n",
       "      <td>1963.0</td>\n",
       "      <td>1</td>\n",
       "      <td>2015-01-20 07:49:00</td>\n",
       "      <td>527.0</td>\n",
       "      <td>NaN</td>\n",
       "    </tr>\n",
       "  </tbody>\n",
       "</table>\n",
       "</div>"
      ],
      "text/plain": [
       "        tripduration        starttime         stoptime  start station id  \\\n",
       "278221           892  1/30/2015 17:52  1/30/2015 18:07               488   \n",
       "166642           354  1/19/2015 11:30  1/19/2015 11:36               310   \n",
       "159312           380  1/17/2015 16:01  1/17/2015 16:07               483   \n",
       "221660           765  1/22/2015 23:19  1/22/2015 23:32               509   \n",
       "176258           527   1/20/2015 7:49   1/20/2015 7:58               537   \n",
       "\n",
       "             start station name  start station latitude  \\\n",
       "278221          W 39 St & 9 Ave               40.756458   \n",
       "166642      State St & Smith St               40.689269   \n",
       "159312          E 12 St & 3 Ave               40.732233   \n",
       "221660          9 Ave & W 22 St               40.745497   \n",
       "176258  Lexington Ave & E 24 St               40.740259   \n",
       "\n",
       "        start station longitude  end station id         end station name  \\\n",
       "278221               -73.993722             402       Broadway & E 22 St   \n",
       "166642               -73.989129             298  3 Ave & Schermerhorn St   \n",
       "159312               -73.988900             317        E 6 St & Avenue B   \n",
       "221660               -74.001971             174          E 25 St & 1 Ave   \n",
       "176258               -73.984092             442          W 27 St & 7 Ave   \n",
       "\n",
       "        end station latitude  end station longitude  bikeid    usertype  \\\n",
       "278221             40.740343             -73.989551   21007  Subscriber   \n",
       "166642             40.686832             -73.979677   19632  Subscriber   \n",
       "159312             40.724537             -73.981854   16611  Subscriber   \n",
       "221660             40.738177             -73.977387   18350  Subscriber   \n",
       "176258             40.746647             -73.993915   18651  Subscriber   \n",
       "\n",
       "        birth year  gender                date  DayDur  NightDur  \n",
       "278221      1975.0       1 2015-01-30 17:52:00   892.0       NaN  \n",
       "166642      1984.0       1 2015-01-19 11:30:00   354.0       NaN  \n",
       "159312      1983.0       2 2015-01-17 16:01:00   380.0       NaN  \n",
       "221660      1989.0       1 2015-01-22 23:19:00     NaN     765.0  \n",
       "176258      1963.0       1 2015-01-20 07:49:00   527.0       NaN  "
      ]
     },
     "execution_count": 15,
     "metadata": {},
     "output_type": "execute_result"
    }
   ],
   "source": [
    "dfBikes.head()"
   ]
  },
  {
   "cell_type": "code",
   "execution_count": 16,
   "metadata": {
    "collapsed": false
   },
   "outputs": [
    {
     "name": "stderr",
     "output_type": "stream",
     "text": [
      "/opt/rh/anaconda/root/envs/PUI2016_Python2/lib/python2.7/site-packages/numpy/lib/function_base.py:3834: RuntimeWarning: Invalid value encountered in percentile\n",
      "  RuntimeWarning)\n"
     ]
    },
    {
     "data": {
      "text/html": [
       "<div>\n",
       "<table border=\"1\" class=\"dataframe\">\n",
       "  <thead>\n",
       "    <tr style=\"text-align: right;\">\n",
       "      <th></th>\n",
       "      <th>tripduration</th>\n",
       "      <th>start station id</th>\n",
       "      <th>start station latitude</th>\n",
       "      <th>start station longitude</th>\n",
       "      <th>end station id</th>\n",
       "      <th>end station latitude</th>\n",
       "      <th>end station longitude</th>\n",
       "      <th>bikeid</th>\n",
       "      <th>birth year</th>\n",
       "      <th>gender</th>\n",
       "      <th>DayDur</th>\n",
       "      <th>NightDur</th>\n",
       "    </tr>\n",
       "  </thead>\n",
       "  <tbody>\n",
       "    <tr>\n",
       "      <th>count</th>\n",
       "      <td>20000.000000</td>\n",
       "      <td>20000.000000</td>\n",
       "      <td>20000.000000</td>\n",
       "      <td>20000.000000</td>\n",
       "      <td>20000.000000</td>\n",
       "      <td>20000.000000</td>\n",
       "      <td>20000.000000</td>\n",
       "      <td>20000.000000</td>\n",
       "      <td>19705.000000</td>\n",
       "      <td>20000.000000</td>\n",
       "      <td>15485.000000</td>\n",
       "      <td>4515.000000</td>\n",
       "    </tr>\n",
       "    <tr>\n",
       "      <th>mean</th>\n",
       "      <td>657.395400</td>\n",
       "      <td>442.584350</td>\n",
       "      <td>40.735672</td>\n",
       "      <td>-73.990270</td>\n",
       "      <td>438.208250</td>\n",
       "      <td>40.735504</td>\n",
       "      <td>-73.990503</td>\n",
       "      <td>18179.581500</td>\n",
       "      <td>1975.134382</td>\n",
       "      <td>1.161900</td>\n",
       "      <td>663.641912</td>\n",
       "      <td>635.971872</td>\n",
       "    </tr>\n",
       "    <tr>\n",
       "      <th>std</th>\n",
       "      <td>925.449301</td>\n",
       "      <td>329.910432</td>\n",
       "      <td>0.018739</td>\n",
       "      <td>0.011574</td>\n",
       "      <td>321.190592</td>\n",
       "      <td>0.018544</td>\n",
       "      <td>0.011641</td>\n",
       "      <td>2066.596187</td>\n",
       "      <td>11.475039</td>\n",
       "      <td>0.407181</td>\n",
       "      <td>837.679666</td>\n",
       "      <td>1177.657219</td>\n",
       "    </tr>\n",
       "    <tr>\n",
       "      <th>min</th>\n",
       "      <td>60.000000</td>\n",
       "      <td>72.000000</td>\n",
       "      <td>40.680342</td>\n",
       "      <td>-74.017134</td>\n",
       "      <td>72.000000</td>\n",
       "      <td>40.680342</td>\n",
       "      <td>-74.017134</td>\n",
       "      <td>14529.000000</td>\n",
       "      <td>1899.000000</td>\n",
       "      <td>0.000000</td>\n",
       "      <td>60.000000</td>\n",
       "      <td>66.000000</td>\n",
       "    </tr>\n",
       "    <tr>\n",
       "      <th>25%</th>\n",
       "      <td>336.000000</td>\n",
       "      <td>310.000000</td>\n",
       "      <td>40.722992</td>\n",
       "      <td>-73.998004</td>\n",
       "      <td>307.000000</td>\n",
       "      <td>40.723180</td>\n",
       "      <td>-73.998842</td>\n",
       "      <td>16419.000000</td>\n",
       "      <td>NaN</td>\n",
       "      <td>1.000000</td>\n",
       "      <td>NaN</td>\n",
       "      <td>NaN</td>\n",
       "    </tr>\n",
       "    <tr>\n",
       "      <th>50%</th>\n",
       "      <td>507.000000</td>\n",
       "      <td>417.000000</td>\n",
       "      <td>40.737815</td>\n",
       "      <td>-73.990093</td>\n",
       "      <td>417.000000</td>\n",
       "      <td>40.737262</td>\n",
       "      <td>-73.990741</td>\n",
       "      <td>18186.000000</td>\n",
       "      <td>NaN</td>\n",
       "      <td>1.000000</td>\n",
       "      <td>NaN</td>\n",
       "      <td>NaN</td>\n",
       "    </tr>\n",
       "    <tr>\n",
       "      <th>75%</th>\n",
       "      <td>768.250000</td>\n",
       "      <td>492.000000</td>\n",
       "      <td>40.750450</td>\n",
       "      <td>-73.981923</td>\n",
       "      <td>491.000000</td>\n",
       "      <td>40.750200</td>\n",
       "      <td>-73.981918</td>\n",
       "      <td>19921.250000</td>\n",
       "      <td>NaN</td>\n",
       "      <td>1.000000</td>\n",
       "      <td>NaN</td>\n",
       "      <td>NaN</td>\n",
       "    </tr>\n",
       "    <tr>\n",
       "      <th>max</th>\n",
       "      <td>41111.000000</td>\n",
       "      <td>3002.000000</td>\n",
       "      <td>40.771522</td>\n",
       "      <td>-73.950048</td>\n",
       "      <td>3002.000000</td>\n",
       "      <td>40.771522</td>\n",
       "      <td>-73.950048</td>\n",
       "      <td>21699.000000</td>\n",
       "      <td>1999.000000</td>\n",
       "      <td>2.000000</td>\n",
       "      <td>32278.000000</td>\n",
       "      <td>41111.000000</td>\n",
       "    </tr>\n",
       "  </tbody>\n",
       "</table>\n",
       "</div>"
      ],
      "text/plain": [
       "       tripduration  start station id  start station latitude  \\\n",
       "count  20000.000000      20000.000000            20000.000000   \n",
       "mean     657.395400        442.584350               40.735672   \n",
       "std      925.449301        329.910432                0.018739   \n",
       "min       60.000000         72.000000               40.680342   \n",
       "25%      336.000000        310.000000               40.722992   \n",
       "50%      507.000000        417.000000               40.737815   \n",
       "75%      768.250000        492.000000               40.750450   \n",
       "max    41111.000000       3002.000000               40.771522   \n",
       "\n",
       "       start station longitude  end station id  end station latitude  \\\n",
       "count             20000.000000    20000.000000          20000.000000   \n",
       "mean                -73.990270      438.208250             40.735504   \n",
       "std                   0.011574      321.190592              0.018544   \n",
       "min                 -74.017134       72.000000             40.680342   \n",
       "25%                 -73.998004      307.000000             40.723180   \n",
       "50%                 -73.990093      417.000000             40.737262   \n",
       "75%                 -73.981923      491.000000             40.750200   \n",
       "max                 -73.950048     3002.000000             40.771522   \n",
       "\n",
       "       end station longitude        bikeid    birth year        gender  \\\n",
       "count           20000.000000  20000.000000  19705.000000  20000.000000   \n",
       "mean              -73.990503  18179.581500   1975.134382      1.161900   \n",
       "std                 0.011641   2066.596187     11.475039      0.407181   \n",
       "min               -74.017134  14529.000000   1899.000000      0.000000   \n",
       "25%               -73.998842  16419.000000           NaN      1.000000   \n",
       "50%               -73.990741  18186.000000           NaN      1.000000   \n",
       "75%               -73.981918  19921.250000           NaN      1.000000   \n",
       "max               -73.950048  21699.000000   1999.000000      2.000000   \n",
       "\n",
       "             DayDur      NightDur  \n",
       "count  15485.000000   4515.000000  \n",
       "mean     663.641912    635.971872  \n",
       "std      837.679666   1177.657219  \n",
       "min       60.000000     66.000000  \n",
       "25%             NaN           NaN  \n",
       "50%             NaN           NaN  \n",
       "75%             NaN           NaN  \n",
       "max    32278.000000  41111.000000  "
      ]
     },
     "execution_count": 16,
     "metadata": {},
     "output_type": "execute_result"
    }
   ],
   "source": [
    "#your df should look something like this\n",
    "# look at these data carefully... you may see someinteresting values!\n",
    "dfBikes.describe()"
   ]
  },
  {
   "cell_type": "code",
   "execution_count": 17,
   "metadata": {
    "collapsed": true
   },
   "outputs": [],
   "source": [
    "# dropping NaN values\n",
    "dfBikes['DayDur'].dropna(inplace= True)\n",
    "dfBikes['NightDur'].dropna(inplace= True)"
   ]
  },
  {
   "cell_type": "code",
   "execution_count": 18,
   "metadata": {
    "collapsed": false
   },
   "outputs": [
    {
     "data": {
      "image/png": "[encoded data removed]",
      "text/plain": [
       "<matplotlib.figure.Figure at 0x7f3313e77450>"
      ]
     },
     "metadata": {},
     "output_type": "display_data"
    },
    {
     "data": {
      "image/png": "[encoded data removed]",
      "text/plain": [
       "<matplotlib.figure.Figure at 0x7f3313e77710>"
      ]
     },
     "metadata": {},
     "output_type": "display_data"
    }
   ],
   "source": [
    "# plotting histogramswith pandas is a bitdifferent than with pylab\n",
    "# this is a VERY USEFUL syntaxfor you to knonw!\n",
    "bins = np.arange(0, 3600, 180)\n",
    "\n",
    "\n",
    "\n",
    "axDayDur = dfBikes.DayDur.groupby(pd.cut(dfBikes.DayDur, bins)).agg([count_nonzero]).plot(kind='bar', \n",
    "                                                                                    legend=False, figsize = (20,10), \n",
    "                                                                                          fontsize = 16)\n",
    "axDayDur.set_title(\"Duration of Day riders\", fontsize = 20)\n",
    "\n",
    "\n",
    "\n",
    "axNightDur = dfBikes.NightDur.groupby(pd.cut(dfBikes.NightDur, bins)).agg([count_nonzero]).plot(kind='bar',\n",
    "                                                               legend=False, figsize = (20,10),\n",
    "                                                                                        fontsize = 16)\n",
    "axNightDur.set_title(\"Duration of Night riders\", fontsize = 20);"
   ]
  },
  {
   "cell_type": "markdown",
   "metadata": {
    "collapsed": true
   },
   "source": [
    "#### Figure 1: Histogram of Durations, showing count of number of people who travelled for each duration (indicated by the interval of the bins in seconds), split by day (DayDur) and night (NightDur)"
   ]
  },
  {
   "cell_type": "code",
   "execution_count": 19,
   "metadata": {
    "collapsed": false
   },
   "outputs": [
    {
     "name": "stdout",
     "output_type": "stream",
     "text": [
      "              count_nonzero\n",
      "DayDur                     \n",
      "(0, 180]           0.000693\n",
      "(180, 360]         0.038785\n",
      "(360, 540]         0.041275\n",
      "(540, 720]         0.040643\n",
      "(720, 900]         0.035438\n",
      "(900, 1080]        0.031892\n",
      "(1080, 1260]       0.025808\n",
      "(1260, 1440]       0.019080\n",
      "(1440, 1620]       0.012486\n",
      "(1620, 1800]       0.007718\n",
      "(1800, 1980]       0.003722\n",
      "(1980, 2160]       0.002700\n",
      "(2160, 2340]       0.001596\n",
      "(2340, 2520]       0.000141\n",
      "(2520, 2700]       0.000110\n",
      "(2700, 2880]       0.000028\n",
      "(2880, 3060]       0.000111\n",
      "(3060, 3240]       0.000324\n",
      "(3240, 3420]       0.000000\n"
     ]
    },
    {
     "data": {
      "text/plain": [
       "<matplotlib.legend.Legend at 0x7f330d72ffd0>"
      ]
     },
     "execution_count": 19,
     "metadata": {},
     "output_type": "execute_result"
    },
    {
     "data": {
      "image/png": "[encoded data removed]",
      "text/plain": [
       "<matplotlib.figure.Figure at 0x7f330d841250>"
      ]
     },
     "metadata": {},
     "output_type": "display_data"
    }
   ],
   "source": [
    "#print dfBikes.Dur, dfBikes.Dur.cumsum()\n",
    "\n",
    "#dfBikes.DayDur\n",
    "\n",
    "csDayDur=dfBikes.DayDur.groupby(pd.cut(dfBikes.DayDur, bins)).agg([count_nonzero]).cumsum()\n",
    "\n",
    "\n",
    "csNightDur=dfBikes.NightDur.groupby(pd.cut(dfBikes.NightDur, bins)).agg([count_nonzero]).cumsum()\n",
    "\n",
    "print (np.abs(csDayDur / csDayDur.max()-csNightDur / csNightDur.max()))\n",
    "\n",
    "plt.figure(figsize = (20,10))\n",
    "plt.tick_params(axis='both',labelsize=16)\n",
    "                                                                                \n",
    "pl.plot(bins[:-1] + 5, csDayDur / csDayDur.max(), label = \"Day Riders\")\n",
    "pl.plot(bins[:-1] + 5, csNightDur / csNightDur.max(), label = \"Night Riders\")\n",
    "pl.plot(bins[:-1] + 5, np.sqrt(csNightDur / csNightDur.max() - csDayDur / csDayDur.max())**2, 'k-',\n",
    "        label = \"difference\")\n",
    "pl.xlabel(\"Duration\", fontsize = 18)\n",
    "pl.ylabel(\"Normalized Cumulative Number\", fontsize = 18)\n",
    "pl.legend(fontsize=14)"
   ]
  },
  {
   "cell_type": "markdown",
   "metadata": {},
   "source": [
    "#### Figure 2: The cumulative distribution of CitiBike riders' Duration split by DayRiders (Blue) and NightRiders (Orange). The difference in cumulative distribution is also plotted, and the max difference is observed around 250 seconds.\n"
   ]
  },
  {
   "cell_type": "markdown",
   "metadata": {},
   "source": [
    "## KS tests to compare 2 samples\n",
    "\n",
    "http://docs.scipy.org/doc/scipy-0.15.1/reference/generated/scipy.stats.ks_2samp.html\n",
    "\n",
    "\n"
   ]
  },
  {
   "cell_type": "code",
   "execution_count": 20,
   "metadata": {
    "collapsed": true
   },
   "outputs": [],
   "source": [
    "\n",
    "ks = scipy.stats.ks_2samp(dfBikes.DayDur, dfBikes.NightDur)"
   ]
  },
  {
   "cell_type": "code",
   "execution_count": 21,
   "metadata": {
    "collapsed": false
   },
   "outputs": [
    {
     "name": "stdout",
     "output_type": "stream",
     "text": [
      "Ks_2sampResult(statistic=0.04810442427941635, pvalue=1.7611302177652156e-07)\n"
     ]
    }
   ],
   "source": [
    "print(ks)"
   ]
  },
  {
   "cell_type": "markdown",
   "metadata": {},
   "source": [
    "The scipy KS test returned a test statistic of 0.0266 and a p-value of 2 x 10^-159 (i.e. really small). The very small p-value indicates we reject the null hypothesis. The NULL hypothesis is that the distributions of the two samples are the same - in this case we reject the null and conclude the distributions may be different.\n"
   ]
  },
  {
   "cell_type": "code",
   "execution_count": 22,
   "metadata": {
    "collapsed": true
   },
   "outputs": [],
   "source": [
    "numpy.random.seed(seed=999)"
   ]
  },
  {
   "cell_type": "code",
   "execution_count": 23,
   "metadata": {
    "collapsed": false
   },
   "outputs": [],
   "source": [
    "## your words here!...\n",
    "## this cell is for you to redo the test with reducted dataset \n",
    "## and tell me what the scipy ks test returned and what it means in terms of NULL HYPOTHESIS\n",
    "\n",
    "RedactDay = int(dfBikes.DayDur.size / 200)\n",
    "RedactNight = int(dfBikes.NightDur.size / 200)\n",
    "#SampleSize = min(LenDay,LenNight)\n",
    "\n",
    "\n",
    "sortRedactDayDur = sorted(numpy.random.choice(dfBikes.DayDur, size=RedactDay, replace=False))\n",
    "sortRedactNightDur = sorted(numpy.random.choice(dfBikes.NightDur, size=RedactNight, replace=False))"
   ]
  },
  {
   "cell_type": "code",
   "execution_count": 24,
   "metadata": {
    "collapsed": true
   },
   "outputs": [],
   "source": [
    "\n",
    "ksRedact = scipy.stats.ks_2samp(sortRedactDayDur, sortRedactNightDur)"
   ]
  },
  {
   "cell_type": "code",
   "execution_count": 25,
   "metadata": {
    "collapsed": false
   },
   "outputs": [
    {
     "name": "stdout",
     "output_type": "stream",
     "text": [
      "Ks_2sampResult(statistic=0.1298701298701298, pvalue=0.91639891342923885)\n"
     ]
    }
   ],
   "source": [
    "print(ksRedact )"
   ]
  },
  {
   "cell_type": "markdown",
   "metadata": {},
   "source": [
    "The scipy KS test returned a test statistic of 0.0487 and a p-value of 0.0042. Again, the p-value is small and leads us to reject the null hypothesis that the distributions of the two samples are the same. I.e. conclude the two samples come from different distributions\n"
   ]
  },
  {
   "cell_type": "markdown",
   "metadata": {},
   "source": [
    "## Pearson's  test for correlation\n",
    "\n",
    "** notice that the Pearson's is a pairwise test: the samples need to be **\n",
    " a. the same size\n",
    " b. sorted! (how??)\n",
    "    \n",
    "http://docs.scipy.org/doc/scipy/reference/generated/scipy.stats.pearsonr.html#scipy.stats.pearsonr\n"
   ]
  },
  {
   "cell_type": "code",
   "execution_count": 26,
   "metadata": {
    "collapsed": false
   },
   "outputs": [],
   "source": [
    "LenDay = dfBikes.DayDur.size\n",
    "LenNight = dfBikes.NightDur.size\n",
    "SampleSize = min(LenDay,LenNight)\n",
    "\n",
    "sortRandDayDur = sorted(numpy.random.choice(dfBikes.DayDur, size=SampleSize, replace=False))\n",
    "sortRandNightDur = sorted(numpy.random.choice(dfBikes.NightDur, size=SampleSize, replace=False))"
   ]
  },
  {
   "cell_type": "code",
   "execution_count": 27,
   "metadata": {
    "collapsed": false
   },
   "outputs": [
    {
     "data": {
      "text/plain": [
       "(0.97000834976151584, 0.0)"
      ]
     },
     "execution_count": 27,
     "metadata": {},
     "output_type": "execute_result"
    }
   ],
   "source": [
    "scipy.stats.pearsonr(sortRandDayDur , sortRandNightDur)"
   ]
  },
  {
   "cell_type": "markdown",
   "metadata": {},
   "source": [
    "\n",
    "\n",
    "The Pearson's correlation returned is 0.97623, and p-value returned is 0.0 (likely small, but non-zero if more decimal places were returned). The p-value returned if for a two-tailed test, assessing Null hypothesis of correlation = 0, v.s. two-sided alternative of correlation not equal to zero.\n",
    "\n",
    "In this case, with the very small p-value, we reject the null to conclude it is very unlikely the datapoints were generated from distributions with correlation equal to zero.\n"
   ]
  },
  {
   "cell_type": "code",
   "execution_count": null,
   "metadata": {
    "collapsed": true
   },
   "outputs": [],
   "source": []
  },
  {
   "cell_type": "markdown",
   "metadata": {},
   "source": [
    "## Spearman's  test for correlation\n",
    "\n",
    "http://docs.scipy.org/doc/scipy/reference/generated/scipy.stats.spearmanr.html#scipy.stats.spearmanr"
   ]
  },
  {
   "cell_type": "code",
   "execution_count": 28,
   "metadata": {
    "collapsed": false
   },
   "outputs": [
    {
     "data": {
      "text/plain": [
       "SpearmanrResult(correlation=0.99999806327979679, pvalue=0.0)"
      ]
     },
     "execution_count": 28,
     "metadata": {},
     "output_type": "execute_result"
    }
   ],
   "source": [
    "scipy.stats.spearmanr(sortRandDayDur , sortRandNightDur)"
   ]
  },
  {
   "cell_type": "markdown",
   "metadata": {},
   "source": [
    "The Spearman's rank-order correlation returned is 0.99999, and p-value returned is 0.0 (likely small, but non-zero if more decimal places were returned). The p-value returned if for a two-tailed test, assessing Null hypothesis of correlation = 0, v.s. two-sided alternative of correlation not equal to zero.\n",
    "\n",
    "In this case, with the very small p-value, we reject the null to conclude it is very unlikely the datapoints were generated from distributions with correlation equal to zero.\n"
   ]
  },
  {
   "cell_type": "code",
   "execution_count": null,
   "metadata": {
    "collapsed": true
   },
   "outputs": [],
   "source": []
  },
  {
   "cell_type": "code",
   "execution_count": null,
   "metadata": {
    "collapsed": true
   },
   "outputs": [],
   "source": []
  },
  {
   "cell_type": "markdown",
   "metadata": {},
   "source": [
    "\n",
    "# AGE OF RIDERS FROM MANHATTAN AND BROOKLYN\n",
    "\n",
    "H0: there is no statistical difference in the age distribution of riders from Manhattan and Brooklyn \n",
    "\n",
    "$$ \\alpha = 0.05 $$\n",
    "\n"
   ]
  },
  {
   "cell_type": "code",
   "execution_count": 30,
   "metadata": {
    "collapsed": false
   },
   "outputs": [
    {
     "data": {
      "text/html": [
       "<div>\n",
       "<table border=\"1\" class=\"dataframe\">\n",
       "  <thead>\n",
       "    <tr style=\"text-align: right;\">\n",
       "      <th></th>\n",
       "      <th>index</th>\n",
       "      <th>start station latitude</th>\n",
       "      <th>start station longitude</th>\n",
       "    </tr>\n",
       "  </thead>\n",
       "  <tbody>\n",
       "    <tr>\n",
       "      <th>0</th>\n",
       "      <td>278221</td>\n",
       "      <td>40.756458</td>\n",
       "      <td>-73.993722</td>\n",
       "    </tr>\n",
       "    <tr>\n",
       "      <th>1</th>\n",
       "      <td>166642</td>\n",
       "      <td>40.689269</td>\n",
       "      <td>-73.989129</td>\n",
       "    </tr>\n",
       "    <tr>\n",
       "      <th>2</th>\n",
       "      <td>159312</td>\n",
       "      <td>40.732233</td>\n",
       "      <td>-73.988900</td>\n",
       "    </tr>\n",
       "    <tr>\n",
       "      <th>3</th>\n",
       "      <td>221660</td>\n",
       "      <td>40.745497</td>\n",
       "      <td>-74.001971</td>\n",
       "    </tr>\n",
       "    <tr>\n",
       "      <th>4</th>\n",
       "      <td>176258</td>\n",
       "      <td>40.740259</td>\n",
       "      <td>-73.984092</td>\n",
       "    </tr>\n",
       "  </tbody>\n",
       "</table>\n",
       "</div>"
      ],
      "text/plain": [
       "    index  start station latitude  start station longitude\n",
       "0  278221               40.756458               -73.993722\n",
       "1  166642               40.689269               -73.989129\n",
       "2  159312               40.732233               -73.988900\n",
       "3  221660               40.745497               -74.001971\n",
       "4  176258               40.740259               -73.984092"
      ]
     },
     "execution_count": 30,
     "metadata": {},
     "output_type": "execute_result"
    }
   ],
   "source": [
    "UniqueCoords =  dfBikes.drop([ 'tripduration', 'starttime', 'stoptime','start station id', 'start station name', 'end station id', 'end station name','end station latitude', 'end station longitude', 'bikeid','usertype', 'birth year', 'gender', 'date', 'DayDur', 'NightDur'],axis=1)\n",
    "UniqueCoords = UniqueCoords.drop_duplicates(['start station longitude', 'start station latitude']).reset_index()\n",
    "UniqueCoords.head()"
   ]
  },
  {
   "cell_type": "code",
   "execution_count": 31,
   "metadata": {
    "collapsed": false
   },
   "outputs": [],
   "source": [
    "#UniqueCoords = UniqueCoords.drop(UniqueCoords.index[407]).reset_index()\n",
    "#UniqueCoords = UniqueCoords.drop(UniqueCoords.index[423]).reset_index()"
   ]
  },
  {
   "cell_type": "code",
   "execution_count": null,
   "metadata": {
    "collapsed": true
   },
   "outputs": [],
   "source": []
  },
  {
   "cell_type": "markdown",
   "metadata": {},
   "source": [
    "Sometimes Geocoder fails or disconnects. If so, run again."
   ]
  },
  {
   "cell_type": "code",
   "execution_count": 32,
   "metadata": {
    "collapsed": false
   },
   "outputs": [
    {
     "name": "stderr",
     "output_type": "stream",
     "text": [
      "/opt/rh/anaconda/root/envs/PUI2016_Python2/lib/python2.7/site-packages/ipykernel/__main__.py:13: SettingWithCopyWarning: \n",
      "A value is trying to be set on a copy of a slice from a DataFrame\n",
      "\n",
      "See the caveats in the documentation: http://pandas.pydata.org/pandas-docs/stable/indexing.html#indexing-view-versus-copy\n",
      "/opt/rh/anaconda/root/envs/PUI2016_Python2/lib/python2.7/site-packages/pandas/core/indexing.py:132: SettingWithCopyWarning: \n",
      "A value is trying to be set on a copy of a slice from a DataFrame\n",
      "\n",
      "See the caveats in the documentation: http://pandas.pydata.org/pandas-docs/stable/indexing.html#indexing-view-versus-copy\n",
      "  self._setitem_with_indexer(indexer, value)\n",
      "/opt/rh/anaconda/root/envs/PUI2016_Python2/lib/python2.7/site-packages/ipykernel/__main__.py:21: SettingWithCopyWarning: \n",
      "A value is trying to be set on a copy of a slice from a DataFrame\n",
      "\n",
      "See the caveats in the documentation: http://pandas.pydata.org/pandas-docs/stable/indexing.html#indexing-view-versus-copy\n"
     ]
    }
   ],
   "source": [
    "geolocator = Nominatim()\n",
    "\n",
    "UniqueCoords['Borough'] = np.nan\n",
    "\n",
    "\n",
    "for i in range(UniqueCoords.shape[0]):\n",
    "    \n",
    "    address = geolocator.reverse(str(UniqueCoords['start station latitude'][i]) + \", \" + str(UniqueCoords['start station longitude'][i])) \n",
    "    temp = str(address).split(',')\n",
    "    #print(temp)\n",
    "    if np.in1d(\" New York County\", temp):\n",
    "        \n",
    "        UniqueCoords['Borough'][i] = 'Manhattan'\n",
    "    #   print(\"M\")\n",
    "    \n",
    "    if np.in1d(\"  Manhattan\", temp):\n",
    "        UniqueCoords['Borough'][i] = 'Manhattan'    \n",
    "    #  print(\"M\")\n",
    "    if np.in1d(\" Kings County\", temp):       \n",
    "   \n",
    "        UniqueCoords['Borough'][i] = 'Brooklyn'\n",
    "       # print(\"B\")"
   ]
  },
  {
   "cell_type": "code",
   "execution_count": 34,
   "metadata": {
    "collapsed": false
   },
   "outputs": [
    {
     "data": {
      "text/html": [
       "<div>\n",
       "<table border=\"1\" class=\"dataframe\">\n",
       "  <thead>\n",
       "    <tr style=\"text-align: right;\">\n",
       "      <th></th>\n",
       "      <th>tripduration</th>\n",
       "      <th>starttime</th>\n",
       "      <th>stoptime</th>\n",
       "      <th>start station id</th>\n",
       "      <th>start station name</th>\n",
       "      <th>start station latitude</th>\n",
       "      <th>start station longitude</th>\n",
       "      <th>end station id</th>\n",
       "      <th>end station name</th>\n",
       "      <th>end station latitude</th>\n",
       "      <th>end station longitude</th>\n",
       "      <th>bikeid</th>\n",
       "      <th>usertype</th>\n",
       "      <th>birth year</th>\n",
       "      <th>gender</th>\n",
       "      <th>date</th>\n",
       "      <th>DayDur</th>\n",
       "      <th>NightDur</th>\n",
       "      <th>Borough</th>\n",
       "    </tr>\n",
       "  </thead>\n",
       "  <tbody>\n",
       "    <tr>\n",
       "      <th>0</th>\n",
       "      <td>892</td>\n",
       "      <td>1/30/2015 17:52</td>\n",
       "      <td>1/30/2015 18:07</td>\n",
       "      <td>488</td>\n",
       "      <td>W 39 St &amp; 9 Ave</td>\n",
       "      <td>40.756458</td>\n",
       "      <td>-73.993722</td>\n",
       "      <td>402</td>\n",
       "      <td>Broadway &amp; E 22 St</td>\n",
       "      <td>40.740343</td>\n",
       "      <td>-73.989551</td>\n",
       "      <td>21007</td>\n",
       "      <td>Subscriber</td>\n",
       "      <td>1975.0</td>\n",
       "      <td>1</td>\n",
       "      <td>2015-01-30 17:52:00</td>\n",
       "      <td>892.0</td>\n",
       "      <td>NaN</td>\n",
       "      <td>Manhattan</td>\n",
       "    </tr>\n",
       "    <tr>\n",
       "      <th>1</th>\n",
       "      <td>425</td>\n",
       "      <td>2/3/2015 17:29</td>\n",
       "      <td>2/3/2015 17:36</td>\n",
       "      <td>488</td>\n",
       "      <td>W 39 St &amp; 9 Ave</td>\n",
       "      <td>40.756458</td>\n",
       "      <td>-73.993722</td>\n",
       "      <td>509</td>\n",
       "      <td>9 Ave &amp; W 22 St</td>\n",
       "      <td>40.745497</td>\n",
       "      <td>-74.001971</td>\n",
       "      <td>17461</td>\n",
       "      <td>Subscriber</td>\n",
       "      <td>1959.0</td>\n",
       "      <td>1</td>\n",
       "      <td>2015-02-03 17:29:00</td>\n",
       "      <td>425.0</td>\n",
       "      <td>NaN</td>\n",
       "      <td>Manhattan</td>\n",
       "    </tr>\n",
       "    <tr>\n",
       "      <th>2</th>\n",
       "      <td>494</td>\n",
       "      <td>2/13/2015 18:34</td>\n",
       "      <td>2/13/2015 18:43</td>\n",
       "      <td>488</td>\n",
       "      <td>W 39 St &amp; 9 Ave</td>\n",
       "      <td>40.756458</td>\n",
       "      <td>-73.993722</td>\n",
       "      <td>422</td>\n",
       "      <td>W 59 St &amp; 10 Ave</td>\n",
       "      <td>40.770513</td>\n",
       "      <td>-73.988038</td>\n",
       "      <td>16728</td>\n",
       "      <td>Subscriber</td>\n",
       "      <td>1985.0</td>\n",
       "      <td>1</td>\n",
       "      <td>2015-02-13 18:34:00</td>\n",
       "      <td>494.0</td>\n",
       "      <td>NaN</td>\n",
       "      <td>Manhattan</td>\n",
       "    </tr>\n",
       "    <tr>\n",
       "      <th>3</th>\n",
       "      <td>202</td>\n",
       "      <td>1/20/2015 13:29</td>\n",
       "      <td>1/20/2015 13:33</td>\n",
       "      <td>488</td>\n",
       "      <td>W 39 St &amp; 9 Ave</td>\n",
       "      <td>40.756458</td>\n",
       "      <td>-73.993722</td>\n",
       "      <td>490</td>\n",
       "      <td>8 Ave &amp; W 33 St</td>\n",
       "      <td>40.751551</td>\n",
       "      <td>-73.993934</td>\n",
       "      <td>17181</td>\n",
       "      <td>Subscriber</td>\n",
       "      <td>1981.0</td>\n",
       "      <td>1</td>\n",
       "      <td>2015-01-20 13:29:00</td>\n",
       "      <td>202.0</td>\n",
       "      <td>NaN</td>\n",
       "      <td>Manhattan</td>\n",
       "    </tr>\n",
       "    <tr>\n",
       "      <th>4</th>\n",
       "      <td>554</td>\n",
       "      <td>1/7/2015 17:56</td>\n",
       "      <td>1/7/2015 18:06</td>\n",
       "      <td>488</td>\n",
       "      <td>W 39 St &amp; 9 Ave</td>\n",
       "      <td>40.756458</td>\n",
       "      <td>-73.993722</td>\n",
       "      <td>446</td>\n",
       "      <td>W 24 St &amp; 7 Ave</td>\n",
       "      <td>40.744876</td>\n",
       "      <td>-73.995299</td>\n",
       "      <td>16628</td>\n",
       "      <td>Subscriber</td>\n",
       "      <td>1987.0</td>\n",
       "      <td>1</td>\n",
       "      <td>2015-01-07 17:56:00</td>\n",
       "      <td>554.0</td>\n",
       "      <td>NaN</td>\n",
       "      <td>Manhattan</td>\n",
       "    </tr>\n",
       "  </tbody>\n",
       "</table>\n",
       "</div>"
      ],
      "text/plain": [
       "   tripduration        starttime         stoptime  start station id  \\\n",
       "0           892  1/30/2015 17:52  1/30/2015 18:07               488   \n",
       "1           425   2/3/2015 17:29   2/3/2015 17:36               488   \n",
       "2           494  2/13/2015 18:34  2/13/2015 18:43               488   \n",
       "3           202  1/20/2015 13:29  1/20/2015 13:33               488   \n",
       "4           554   1/7/2015 17:56   1/7/2015 18:06               488   \n",
       "\n",
       "  start station name  start station latitude  start station longitude  \\\n",
       "0    W 39 St & 9 Ave               40.756458               -73.993722   \n",
       "1    W 39 St & 9 Ave               40.756458               -73.993722   \n",
       "2    W 39 St & 9 Ave               40.756458               -73.993722   \n",
       "3    W 39 St & 9 Ave               40.756458               -73.993722   \n",
       "4    W 39 St & 9 Ave               40.756458               -73.993722   \n",
       "\n",
       "   end station id    end station name  end station latitude  \\\n",
       "0             402  Broadway & E 22 St             40.740343   \n",
       "1             509     9 Ave & W 22 St             40.745497   \n",
       "2             422    W 59 St & 10 Ave             40.770513   \n",
       "3             490     8 Ave & W 33 St             40.751551   \n",
       "4             446     W 24 St & 7 Ave             40.744876   \n",
       "\n",
       "   end station longitude  bikeid    usertype  birth year  gender  \\\n",
       "0             -73.989551   21007  Subscriber      1975.0       1   \n",
       "1             -74.001971   17461  Subscriber      1959.0       1   \n",
       "2             -73.988038   16728  Subscriber      1985.0       1   \n",
       "3             -73.993934   17181  Subscriber      1981.0       1   \n",
       "4             -73.995299   16628  Subscriber      1987.0       1   \n",
       "\n",
       "                 date  DayDur  NightDur    Borough  \n",
       "0 2015-01-30 17:52:00   892.0       NaN  Manhattan  \n",
       "1 2015-02-03 17:29:00   425.0       NaN  Manhattan  \n",
       "2 2015-02-13 18:34:00   494.0       NaN  Manhattan  \n",
       "3 2015-01-20 13:29:00   202.0       NaN  Manhattan  \n",
       "4 2015-01-07 17:56:00   554.0       NaN  Manhattan  "
      ]
     },
     "execution_count": 34,
     "metadata": {},
     "output_type": "execute_result"
    }
   ],
   "source": [
    "UniqueCoords =  UniqueCoords.drop(['index'],axis=1)\n",
    "dfBikes = pd.merge(dfBikes, UniqueCoords, on=['start station latitude','start station longitude'], how='outer')\n",
    "dfBikes.head()"
   ]
  },
  {
   "cell_type": "code",
   "execution_count": 35,
   "metadata": {
    "collapsed": false
   },
   "outputs": [],
   "source": [
    "dfBikes['age'] = 2015 - dfBikes['birth year']"
   ]
  },
  {
   "cell_type": "code",
   "execution_count": null,
   "metadata": {
    "collapsed": true
   },
   "outputs": [],
   "source": []
  },
  {
   "cell_type": "code",
   "execution_count": 36,
   "metadata": {
    "collapsed": false
   },
   "outputs": [
    {
     "data": {
      "text/plain": [
       "<matplotlib.text.Text at 0x7f3313996d90>"
      ]
     },
     "execution_count": 36,
     "metadata": {},
     "output_type": "execute_result"
    },
    {
     "data": {
      "image/png": "[encoded data removed]",
      "text/plain": [
       "<matplotlib.figure.Figure at 0x7f3313b23e10>"
      ]
     },
     "metadata": {},
     "output_type": "display_data"
    },
    {
     "data": {
      "image/png": "[encoded data removed]",
      "text/plain": [
       "<matplotlib.figure.Figure at 0x7f33139cab10>"
      ]
     },
     "metadata": {},
     "output_type": "display_data"
    }
   ],
   "source": [
    "binss = np.arange(10,95,5)\n",
    "\n",
    "ManhattanTemp = dfBikes[dfBikes['Borough'] == \"Manhattan\"]\n",
    "Manhattan = ManhattanTemp['age'].groupby(pd.cut(ManhattanTemp.age, binss)).agg([count_nonzero]).plot(kind='bar', legend=False)\n",
    "Manhattan.set_title(\"Manhattan Riders\")\n",
    "\n",
    "\n",
    "BrooklynTemp = dfBikes[dfBikes['Borough'] == \"Brooklyn\"]\n",
    "Brooklyn = BrooklynTemp['age'].groupby(pd.cut(BrooklynTemp.age, binss)).agg([count_nonzero]).plot(kind='bar', legend=False)\n",
    "Brooklyn.set_title(\"Brooklyn Riders\")"
   ]
  },
  {
   "cell_type": "code",
   "execution_count": null,
   "metadata": {
    "collapsed": true
   },
   "outputs": [],
   "source": []
  },
  {
   "cell_type": "code",
   "execution_count": 37,
   "metadata": {
    "collapsed": false
   },
   "outputs": [
    {
     "name": "stdout",
     "output_type": "stream",
     "text": [
      "          count_nonzero\n",
      "age                    \n",
      "(10, 15]       0.000000\n",
      "(15, 20]       0.012232\n",
      "(20, 25]       0.016384\n",
      "(25, 30]       0.007066\n",
      "(30, 35]       0.043879\n",
      "(35, 40]       0.087483\n",
      "(40, 45]       0.091993\n",
      "(45, 50]       0.065707\n",
      "(50, 55]       0.030072\n",
      "(55, 60]       0.004514\n",
      "(60, 65]       0.002478\n",
      "(65, 70]       0.002048\n",
      "(70, 75]       0.000916\n",
      "(75, 80]       0.000269\n",
      "(80, 85]       0.000000\n",
      "(85, 90]       0.000000\n"
     ]
    },
    {
     "data": {
      "text/plain": [
       "<matplotlib.legend.Legend at 0x7f3311d62850>"
      ]
     },
     "execution_count": 37,
     "metadata": {},
     "output_type": "execute_result"
    },
    {
     "data": {
      "image/png": "[encoded data removed]",
      "text/plain": [
       "<matplotlib.figure.Figure at 0x7f3313a63dd0>"
      ]
     },
     "metadata": {},
     "output_type": "display_data"
    }
   ],
   "source": [
    "\n",
    "\n",
    "csMN=ManhattanTemp['age'].groupby(pd.cut(ManhattanTemp.age, binss)).agg([count_nonzero]).cumsum()\n",
    "\n",
    "csBK=BrooklynTemp['age'].groupby(pd.cut(BrooklynTemp.age, binss)).agg([count_nonzero]).cumsum()\n",
    "\n",
    "print (np.abs(csMN / csMN.max()-csBK / csBK.max()))\n",
    "\n",
    "pl.plot(binss[:-1] + 5, csMN / csMN.max(), label = \"Manhattan\")\n",
    "pl.plot(binss[:-1] + 5, csBK / csBK.max(), label = \"Brooklyn\")\n",
    "pl.plot(binss[:-1] + 5, np.sqrt(csBK / csBK.max() - csMN / csMN.max())**2, 'k-',\n",
    "        label = \"difference\")\n",
    "pl.xlabel(\"Age\")\n",
    "pl.ylabel(\"Normalized Cumulative Number\")\n",
    "pl.legend()\n",
    "\n"
   ]
  },
  {
   "cell_type": "code",
   "execution_count": null,
   "metadata": {
    "collapsed": true
   },
   "outputs": [],
   "source": []
  },
  {
   "cell_type": "markdown",
   "metadata": {},
   "source": [
    "## KS tests to compare 2 sample"
   ]
  },
  {
   "cell_type": "code",
   "execution_count": 38,
   "metadata": {
    "collapsed": false
   },
   "outputs": [
    {
     "name": "stdout",
     "output_type": "stream",
     "text": [
      "Ks_2sampResult(statistic=0.11925696683220713, pvalue=8.1478583986211961e-14)\n"
     ]
    }
   ],
   "source": [
    "ks = scipy.stats.ks_2samp(ManhattanTemp['age'][~np.isnan(ManhattanTemp['age'])], BrooklynTemp['age'][~np.isnan(BrooklynTemp['age'])])\n",
    "print (ks)"
   ]
  },
  {
   "cell_type": "markdown",
   "metadata": {},
   "source": [
    "\n",
    "\n",
    "The test statistic is 12% highlighting differences between the two distributions.\n",
    "\n",
    "The p-value is 0 indicating we reject the null hypothesis that the samples come from the same distribution"
   ]
  },
  {
   "cell_type": "code",
   "execution_count": null,
   "metadata": {
    "collapsed": true
   },
   "outputs": [],
   "source": []
  },
  {
   "cell_type": "markdown",
   "metadata": {},
   "source": [
    "## Pearson's test for correlation"
   ]
  },
  {
   "cell_type": "code",
   "execution_count": 39,
   "metadata": {
    "collapsed": false
   },
   "outputs": [
    {
     "name": "stdout",
     "output_type": "stream",
     "text": [
      "(0.9881588333740301, 0.0)\n"
     ]
    },
    {
     "name": "stderr",
     "output_type": "stream",
     "text": [
      "/opt/rh/anaconda/root/envs/PUI2016_Python2/lib/python2.7/site-packages/pandas/core/series.py:2571: SettingWithCopyWarning: \n",
      "A value is trying to be set on a copy of a slice from a DataFrame\n",
      "\n",
      "See the caveats in the documentation: http://pandas.pydata.org/pandas-docs/stable/indexing.html#indexing-view-versus-copy\n",
      "  self._update_inplace(result)\n"
     ]
    }
   ],
   "source": [
    "ManhattanTemp['age'].dropna(inplace= True)\n",
    "BrooklynTemp['age'].dropna(inplace= True)\n",
    "\n",
    "if len(BrooklynTemp['age']) < len(ManhattanTemp['age']):\n",
    "    length = len(BrooklynTemp['age'])\n",
    "else:\n",
    "    length = len(ManhattanTemp['age'])\n",
    "    \n",
    "np.random.seed(100)\n",
    "pearson_age_Manhattan = np.sort(np.random.choice(ManhattanTemp['age'], length, replace=False))\n",
    "pearson_age_Brooklyn = np.sort(np.random.choice(BrooklynTemp['age'], length, replace=False))\n",
    "\n",
    "pearson = scipy.stats.pearsonr(pearson_age_Manhattan,pearson_age_Brooklyn)\n",
    "print(pearson)"
   ]
  },
  {
   "cell_type": "markdown",
   "metadata": {},
   "source": [
    "Pearsons correlation is calculated as 0.988 indicating a very high positive correlation between the two samples. The p-value is very small (almost zero), indicating we reject the null hypothesis that correlation equals zero (two-tailed test)"
   ]
  },
  {
   "cell_type": "code",
   "execution_count": null,
   "metadata": {
    "collapsed": true
   },
   "outputs": [],
   "source": []
  },
  {
   "cell_type": "markdown",
   "metadata": {},
   "source": [
    "## Spearman's test for correlation"
   ]
  },
  {
   "cell_type": "code",
   "execution_count": 40,
   "metadata": {
    "collapsed": false
   },
   "outputs": [
    {
     "name": "stdout",
     "output_type": "stream",
     "text": [
      "SpearmanrResult(correlation=0.9989379794704063, pvalue=0.0)\n"
     ]
    }
   ],
   "source": [
    "spearman = scipy.stats.spearmanr(pearson_age_Manhattan,pearson_age_Brooklyn)\n",
    "print(spearman)\n"
   ]
  },
  {
   "cell_type": "markdown",
   "metadata": {},
   "source": [
    "Spearmans rank correlation value of 0.998 indicates again very high correlation between the two samples. The p-value again close to zero indicates we reject the null hypothesis that spearmans rank correlation equals zero (a two-tailed test)"
   ]
  },
  {
   "cell_type": "code",
   "execution_count": null,
   "metadata": {
    "collapsed": true
   },
   "outputs": [],
   "source": []
  },
  {
   "cell_type": "code",
   "execution_count": null,
   "metadata": {
    "collapsed": true
   },
   "outputs": [],
   "source": []
  },
  {
   "cell_type": "code",
   "execution_count": null,
   "metadata": {
    "collapsed": true
   },
   "outputs": [],
   "source": []
  },
  {
   "cell_type": "code",
   "execution_count": null,
   "metadata": {
    "collapsed": true
   },
   "outputs": [],
   "source": []
  }
 ],
 "metadata": {
  "kernelspec": {
   "display_name": "PUI2016_Python2",
   "language": "python",
   "name": "pui2016_python2"
  },
  "language_info": {
   "codemirror_mode": {
    "name": "ipython",
    "version": 2
   },
   "file_extension": ".py",
   "mimetype": "text/x-python",
   "name": "python",
   "nbconvert_exporter": "python",
   "pygments_lexer": "ipython2",
   "version": "2.7.12"
  }
 },
 "nbformat": 4,
 "nbformat_minor": 0
}
